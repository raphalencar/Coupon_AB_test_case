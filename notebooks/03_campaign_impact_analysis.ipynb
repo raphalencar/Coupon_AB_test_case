{
 "cells": [
  {
   "cell_type": "markdown",
   "metadata": {
    "application/vnd.databricks.v1+cell": {
     "cellMetadata": {},
     "inputWidgets": {},
     "nuid": "0c12e200-94c4-44b1-a0f7-2e93c89ed9c7",
     "showTitle": false,
     "tableResultSettingsMap": {},
     "title": ""
    }
   },
   "source": [
    "### Definição dos KPIs\n",
    "\n",
    "**Objetivo**: Avaliar o impacto de uma estratégia de cupons na retenção de usuários \n",
    "\n",
    "<!-- KPIs:\n",
    "1. Taxa de conversão: Dos usuários que receberam a oferta vs. os que não receberam, qual a porcentagem que efetivamente realizou um pedido durante o período da campanha?\n",
    "\n",
    "2. Frequência de Pedidos: Em média, os usuários do grupo de teste fizeram mais pedidos que os do grupo de controle?\n",
    "\n",
    "3. Ticket Médio: O valor médio por pedido foi maior no grupo de teste?\n",
    "\n",
    "4. Taxa de Retenção (Engajamento e recompra, dado que só ficaram pedidos de 2019): Dos clientes que fizeram pelo menos um pedido em 2019, qual a porcentagem que voltou para fazer um segundo pedido (ou mais)? -->\n",
    "\n",
    "| Título do KPI                     | O que é?                                                                 | Como é calculado                                   | Nome da Coluna  |\n",
    "| --------------------------------- | ------------------------------------------------------------------------ | -------------------------------------------------- | ------------------------ |\n",
    "| **Número de pedidos por usuário** | Total de pedidos que um cliente fez no período do teste.                 | `countDistinct(order_id)` por `customer_id`        | `orders_per_user`        |\n",
    "| **Valor total gasto por usuário** | Quanto o cliente gastou no total (com capping aplicado).                 | `sum(order_total_amount_capped)` por `customer_id` | `total_spent_per_user`   |\n",
    "| **Ticket médio por pedido**       | Valor médio gasto por pedido (quanto o cliente gasta em cada pedido).    | `total_spent_per_user / orders_per_user`           | `avg_ticket_per_user`    |\n",
    "| **Quantidade total de itens**     | Soma da quantidade de itens pedidos por um usuário.                      | `sum(total_items_quantity)` por `customer_id`      | `total_items`            |\n",
    "| **Itens por pedido (média)**      | Quantidade média de itens por pedido do usuário.                         | `total_items / orders_per_user`                    | `avg_items_per_order`    |\n",
    "| **Desconto médio por pedido**     | Valor médio de desconto aplicado em cada pedido.                         | `sum(total_items_discount) / orders_per_user`      | `avg_discount_per_order` |\n",
    "| **Retenção durante o período**    | Se o cliente fez mais de um pedido durante o período do teste (1 = sim). | `when(orders_per_user >= 2, 1).otherwise(0)`       | `is_retained`            |"
   ]
  },
  {
   "cell_type": "code",
   "execution_count": 0,
   "metadata": {
    "application/vnd.databricks.v1+cell": {
     "cellMetadata": {
      "byteLimit": 2048000,
      "rowLimit": 10000
     },
     "inputWidgets": {},
     "nuid": "3c829523-a13f-4bb5-b8f5-49d7e45b3272",
     "showTitle": true,
     "tableResultSettingsMap": {},
     "title": "Imports"
    }
   },
   "outputs": [],
   "source": [
    "import pyspark.sql.functions as f\n",
    "from constants import SILVER_LAYER_PATH, GOLD_LAYER_PATH, USER_METRICS_GOLD_COLUMN_COMMENTS\n",
    "\n",
    "from scipy.stats import ttest_ind, chi2, mannwhitneyu\n",
    "from statsmodels.stats.proportion import proportions_ztest\n",
    "\n",
    "import pandas as pd\n",
    "import numpy as np\n",
    "import seaborn as sns\n",
    "import matplotlib.pyplot as plt"
   ]
  },
  {
   "cell_type": "code",
   "execution_count": 0,
   "metadata": {
    "application/vnd.databricks.v1+cell": {
     "cellMetadata": {
      "byteLimit": 2048000,
      "rowLimit": 10000
     },
     "inputWidgets": {},
     "nuid": "e60fb167-187d-411c-b33c-f7f2d619bbcd",
     "showTitle": true,
     "tableResultSettingsMap": {},
     "title": "Carregando dados"
    }
   },
   "outputs": [],
   "source": [
    "abt_df = spark.table(f\"{SILVER_LAYER_PATH}.abt_final\")"
   ]
  },
  {
   "cell_type": "code",
   "execution_count": 0,
   "metadata": {
    "application/vnd.databricks.v1+cell": {
     "cellMetadata": {
      "byteLimit": 2048000,
      "rowLimit": 10000
     },
     "inputWidgets": {},
     "nuid": "850fd6e2-7e8c-4737-b491-dbc05d96bbb5",
     "showTitle": true,
     "tableResultSettingsMap": {},
     "title": "Funções úteis"
    }
   },
   "outputs": [],
   "source": [
    "def add_column_comments(table_name, comments_dict):\n",
    "    for col_name, comment_text in comments_dict.items():\n",
    "        safe_comment = comment_text.replace('\"', '\\\\\"')\n",
    "        \n",
    "        sql_command = f\"\"\"\n",
    "        ALTER TABLE {table_name} ALTER COLUMN {col_name} COMMENT \"{safe_comment}\"\n",
    "        \"\"\"\n",
    "        spark.sql(sql_command)"
   ]
  },
  {
   "cell_type": "code",
   "execution_count": 0,
   "metadata": {
    "application/vnd.databricks.v1+cell": {
     "cellMetadata": {
      "byteLimit": 2048000,
      "rowLimit": 10000
     },
     "inputWidgets": {},
     "nuid": "462219e2-dad9-40db-9f91-27721af0eb6f",
     "showTitle": true,
     "tableResultSettingsMap": {},
     "title": "Criando métricas por usuário"
    }
   },
   "outputs": [],
   "source": [
    "user_metrics_df = (abt_df.groupBy(\"customer_id\", \"is_target\") \n",
    "    .agg(\n",
    "        f.countDistinct(\"order_id\").alias(\"orders_per_user\"),\n",
    "        f.sum(\"order_total_amount_capped\").alias(\"total_spent_per_user\"),\n",
    "        f.sum(\"total_items_quantity\").alias(\"total_items\"),\n",
    "        f.sum(\"total_items_discount\").alias(\"total_discount\"),\n",
    "        f.min(\"days_since_signup\").alias(\"days_since_signup\")  # caso tenha várias linhas por cliente\n",
    "    ) \n",
    "    .withColumn(\"avg_ticket_per_user\", f.col(\"total_spent_per_user\") / f.col(\"orders_per_user\")) \n",
    "    .withColumn(\"avg_items_per_order\", f.col(\"total_items\") / f.col(\"orders_per_user\")) \n",
    "    .withColumn(\"avg_discount_per_order\", f.col(\"total_discount\") / f.col(\"orders_per_user\")) \n",
    "    .withColumn(\"is_retained\", f.when(f.col(\"orders_per_user\") >= 2, 1).otherwise(0)))"
   ]
  },
  {
   "cell_type": "code",
   "execution_count": 0,
   "metadata": {
    "application/vnd.databricks.v1+cell": {
     "cellMetadata": {
      "byteLimit": 2048000,
      "rowLimit": 10000
     },
     "inputWidgets": {},
     "nuid": "bd6cb664-7293-4a01-884f-bc6dd80a183b",
     "showTitle": true,
     "tableResultSettingsMap": {},
     "title": "Salvando métricas por usuário na camada Gold"
    }
   },
   "outputs": [],
   "source": [
    "gold_user_metrics_table_name = f\"{GOLD_LAYER_PATH}.user_metrics\"\n",
    "\n",
    "spark.sql(f\"DROP TABLE IF EXISTS {gold_user_metrics_table_name}\")\n",
    "\n",
    "(user_metrics_df.write\n",
    " .partitionBy(\"is_target\")\n",
    " .format(\"delta\")\n",
    " .mode(\"overwrite\")\n",
    " .saveAsTable(gold_user_metrics_table_name))\n",
    "\n",
    "# adicionando descrição das colunas\n",
    "add_column_comments(gold_user_metrics_table_name, USER_METRICS_GOLD_COLUMN_COMMENTS)\n",
    "\n",
    "print(\"Tabela 'user_metrics' da camada Gold criada com sucesso!\")"
   ]
  },
  {
   "cell_type": "code",
   "execution_count": 0,
   "metadata": {
    "application/vnd.databricks.v1+cell": {
     "cellMetadata": {
      "byteLimit": 2048000,
      "rowLimit": 10000
     },
     "inputWidgets": {},
     "nuid": "5dff64aa-161b-45e5-9837-26891e402bb7",
     "showTitle": true,
     "tableResultSettingsMap": {},
     "title": "Agregando por grupo do teste A/B"
    }
   },
   "outputs": [],
   "source": [
    "group_stats = user_metrics_df.groupBy(\"is_target\").agg(\n",
    "    f.count(\"*\").alias(\"n_users\"),\n",
    "    f.avg(\"orders_per_user\").alias(\"avg_orders\"),\n",
    "    f.avg(\"total_spent_per_user\").alias(\"avg_total_spent\"),\n",
    "    f.avg(\"avg_ticket_per_user\").alias(\"avg_ticket\"),\n",
    "    f.avg(\"avg_items_per_order\").alias(\"avg_items\"),\n",
    "    f.avg(\"avg_discount_per_order\").alias(\"avg_discount\"),\n",
    "    f.avg(\"is_retained\").alias(\"retention_rate\")\n",
    ")\n",
    "\n",
    "display(group_stats)"
   ]
  },
  {
   "cell_type": "code",
   "execution_count": 0,
   "metadata": {
    "application/vnd.databricks.v1+cell": {
     "cellMetadata": {
      "byteLimit": 2048000,
      "rowLimit": 10000
     },
     "inputWidgets": {},
     "nuid": "099d3426-9ae8-4585-a573-597782889c65",
     "showTitle": true,
     "tableResultSettingsMap": {},
     "title": "Funções de teste"
    }
   },
   "outputs": [],
   "source": [
    "def test_avg_ticket_consistency():\n",
    "    df_test = user_metrics_df.withColumn(\n",
    "        \"recalculated_avg_ticket\", f.col(\"total_spent_per_user\") / f.col(\"orders_per_user\")\n",
    "    )\n",
    "    inconsistent = df_test.filter(\n",
    "        f.abs(f.col(\"avg_ticket_per_user\") - f.col(\"recalculated_avg_ticket\")) > 0.01\n",
    "    )\n",
    "    assert inconsistent.count() == 0, \"Inconsistência no cálculo do avg_ticket_per_user\"\n",
    "    \n",
    "def test_control_target_presence():\n",
    "    groups = user_metrics_df.select(\"is_target\").distinct().collect()\n",
    "    values = {row[\"is_target\"] for row in groups}\n",
    "    assert values == {True, False}, f\"Grupos faltando: {values}\"\n",
    "\n",
    "def test_no_null_kpis():\n",
    "    nulls = user_metrics_df.select(\n",
    "        *[f.sum(f.col(c).isNull().cast(\"int\")).alias(c) for c in [\n",
    "            \"orders_per_user\", \"total_spent_per_user\", \"avg_ticket_per_user\"\n",
    "        ]]\n",
    "    ).collect()[0].asDict()\n",
    "    \n",
    "    assert all(v == 0 for v in nulls.values()), f\"Nulls detectados em KPIs: {nulls}\"\n",
    "\n",
    "def test_retention_logic():\n",
    "    errors = user_metrics_df.filter(\n",
    "        ((f.col(\"orders_per_user\") >= 2) & (f.col(\"is_retained\") != 1)) |\n",
    "        ((f.col(\"orders_per_user\") < 2) & (f.col(\"is_retained\") != 0))\n",
    "    )\n",
    "    assert errors.count() == 0, \"Inconsistência na lógica de is_retained\""
   ]
  },
  {
   "cell_type": "code",
   "execution_count": 0,
   "metadata": {
    "application/vnd.databricks.v1+cell": {
     "cellMetadata": {
      "byteLimit": 2048000,
      "rowLimit": 10000
     },
     "inputWidgets": {},
     "nuid": "2820c442-d0d9-4fe5-9810-c5e9fc5469ed",
     "showTitle": true,
     "tableResultSettingsMap": {},
     "title": "Rodando testes sobre o DataFrame de métricas de usuário"
    }
   },
   "outputs": [],
   "source": [
    "test_avg_ticket_consistency()\n",
    "test_control_target_presence()\n",
    "test_no_null_kpis()\n",
    "test_retention_logic()"
   ]
  },
  {
   "cell_type": "code",
   "execution_count": 0,
   "metadata": {
    "application/vnd.databricks.v1+cell": {
     "cellMetadata": {
      "byteLimit": 2048000,
      "rowLimit": 10000
     },
     "inputWidgets": {},
     "nuid": "51b285f7-a807-499c-92a5-5b4f71d92854",
     "showTitle": true,
     "tableResultSettingsMap": {},
     "title": "Realizando teste estatístico"
    }
   },
   "outputs": [],
   "source": [
    "user_pd = user_metrics_df.toPandas()\n",
    "\n",
    "control_group = user_pd[user_pd[\"is_target\"] == False]\n",
    "test_group = user_pd[user_pd[\"is_target\"] == True]\n",
    "\n",
    "kpis = [\n",
    "    \"orders_per_user\",\n",
    "    \"total_spent_per_user\",\n",
    "    \"avg_ticket_per_user\",\n",
    "    \"avg_items_per_order\",\n",
    "    \"avg_discount_per_order\",\n",
    "    \"days_since_signup\"\n",
    "]\n",
    "\n",
    "for column in kpis:\n",
    "    t_stat, p_val = ttest_ind(test_group[column], control_group[column], equal_var=False)\n",
    "    u_stat, p_val_mw_test = mannwhitneyu(test_group[column], control_group[column], alternative='two-sided')\n",
    "    print(f\"{column}: p-valor (T-test) = {p_val:.5f}, p-valor (Mann-Whitney) = {p_val_mw_test:.5f}\")"
   ]
  },
  {
   "cell_type": "code",
   "execution_count": 0,
   "metadata": {
    "application/vnd.databricks.v1+cell": {
     "cellMetadata": {
      "byteLimit": 2048000,
      "rowLimit": 10000
     },
     "inputWidgets": {},
     "nuid": "ad7b1de8-ff77-46e5-848e-685c4b4cf25d",
     "showTitle": true,
     "tableResultSettingsMap": {},
     "title": "Criando DataFrame de estatísticas"
    }
   },
   "outputs": [],
   "source": [
    "kpis = [\n",
    "    \"orders_per_user\",\n",
    "    \"total_spent_per_user\",\n",
    "    \"avg_ticket_per_user\",\n",
    "    \"avg_items_per_order\",\n",
    "    \"avg_discount_per_order\",\n",
    "    \"days_since_signup\"\n",
    "]\n",
    "\n",
    "results = []\n",
    "\n",
    "for kpi in kpis:\n",
    "    mean_t = test_group[kpi].mean()\n",
    "    mean_c = control_group[kpi].mean()\n",
    "    diff = mean_t - mean_c\n",
    "    pct_diff = (diff / mean_c) * 100\n",
    "\n",
    "    if pd.notnull(mean_c) and mean_c != 0:\n",
    "        pct_diff = (diff / mean_c) * 100\n",
    "    else:\n",
    "        pct_diff = np.nan\n",
    "    \n",
    "    t_stat, p_val = ttest_ind(test_group[kpi], control_group[kpi], equal_var=False)\n",
    "    results.append({\n",
    "        \"kpi\": kpi,\n",
    "        \"mean_control\": mean_c,\n",
    "        \"mean_target\": mean_t,\n",
    "        \"diff\": diff,\n",
    "        \"pct_diff\": pct_diff,\n",
    "        \"p_value\": p_val\n",
    "    })\n",
    "\n",
    "df_stats = pd.DataFrame(results)"
   ]
  },
  {
   "cell_type": "code",
   "execution_count": 0,
   "metadata": {
    "application/vnd.databricks.v1+cell": {
     "cellMetadata": {
      "byteLimit": 2048000,
      "rowLimit": 10000
     },
     "inputWidgets": {},
     "nuid": "77f8cac1-abb0-44ec-aa51-fea2123bbfd5",
     "showTitle": true,
     "tableResultSettingsMap": {},
     "title": "Heatmap com diferença percentua dos KPIs entre grupos diferentes"
    }
   },
   "outputs": [],
   "source": [
    "df_stats[\"significance\"] = df_stats[\"p_value\"] < 0.05\n",
    "\n",
    "# Mapa de calor com a diferença percentual\n",
    "plt.figure(figsize=(10, 5))\n",
    "heat_data = df_stats.pivot_table(index=\"kpi\", values=\"pct_diff\")\n",
    "sns.heatmap(heat_data, annot=True, fmt=\".2f\", cmap=\"RdYlGn\", center=0, cbar_kws={\"label\": \"% de diferença\"})\n",
    "\n",
    "plt.title(\"Diferença percentual entre grupos (Target - Controle)\")\n",
    "plt.ylabel(\"KPI\")\n",
    "plt.tight_layout()\n",
    "plt.show()\n",
    "\n",
    "print(\"\\nSignificância estatística dos KPIs (p < 0.05):\")\n",
    "print(df_stats[[\"kpi\", \"pct_diff\", \"p_value\", \"significance\"]])"
   ]
  },
  {
   "cell_type": "code",
   "execution_count": 0,
   "metadata": {
    "application/vnd.databricks.v1+cell": {
     "cellMetadata": {
      "byteLimit": 2048000,
      "rowLimit": 10000
     },
     "inputWidgets": {},
     "nuid": "3012a54f-bc85-48ab-a0e4-720c94661adc",
     "showTitle": true,
     "tableResultSettingsMap": {},
     "title": "Distribuição do Total de pedidos por Usuário"
    }
   },
   "outputs": [],
   "source": [
    "plt.figure(figsize=(12, 6))\n",
    "sns.histplot(data=user_pd, x='orders_per_user', hue='is_target', kde=True, bins=50)\n",
    "plt.title('Distribuição do Total de pedidos por Usuário')\n",
    "plt.show()"
   ]
  },
  {
   "cell_type": "code",
   "execution_count": 0,
   "metadata": {
    "application/vnd.databricks.v1+cell": {
     "cellMetadata": {
      "byteLimit": 2048000,
      "rowLimit": 10000
     },
     "inputWidgets": {},
     "nuid": "f5e5f355-f048-4d56-98f6-61c464a7bafb",
     "showTitle": true,
     "tableResultSettingsMap": {},
     "title": "Distribuição do Gasto Total por Usuário"
    }
   },
   "outputs": [],
   "source": [
    "plt.figure(figsize=(12, 6))\n",
    "sns.histplot(data=user_pd, x='total_spent_per_user', hue='is_target', kde=True, bins=50)\n",
    "plt.title('Distribuição do Gasto Total por Usuário')\n",
    "plt.show()"
   ]
  },
  {
   "cell_type": "markdown",
   "metadata": {
    "application/vnd.databricks.v1+cell": {
     "cellMetadata": {},
     "inputWidgets": {},
     "nuid": "b38ca2d0-bc15-4e11-ac71-337c163a8aeb",
     "showTitle": false,
     "tableResultSettingsMap": {},
     "title": ""
    }
   },
   "source": [
    "**Conclusão**\n",
    "KPIs com impacto estatístico significativo:\n",
    "\n",
    "`orders_per_user`: cupom incentivou maior frequência de pedidos.\n",
    "\n",
    "`total_spent_per_user`: cupom aumentou o gasto total por cliente.\n",
    "\n",
    "KPIs sem impacto estatístico:\n",
    "\n",
    "`avg_ticket_per_user`, `avg_items_per_order`: os pedidos não ficaram maiores ou mais caros, só mais frequentes.\n",
    "\n",
    "`avg_discount_per_order`: provavelmente não houve registro de desconto por pedido na variável.\n",
    "\n",
    "`days_since_signup`: não houve desequilíbrio relevante entre os grupos em relação ao tempo de cadastro (bom sinal)."
   ]
  },
  {
   "cell_type": "code",
   "execution_count": 0,
   "metadata": {
    "application/vnd.databricks.v1+cell": {
     "cellMetadata": {
      "byteLimit": 2048000,
      "rowLimit": 10000
     },
     "inputWidgets": {},
     "nuid": "3ff20040-259d-417d-8c46-1782d66a5293",
     "showTitle": true,
     "tableResultSettingsMap": {},
     "title": "Sobre a taxa de retenção"
    }
   },
   "outputs": [],
   "source": [
    "ret_target = test_group[\"is_retained\"].sum()\n",
    "ret_control = control_group[\"is_retained\"].sum()\n",
    "n_target = len(test_group)\n",
    "n_control = len(control_group)\n",
    "\n",
    "count = np.array([ret_target, ret_control])\n",
    "nobs = np.array([n_target, n_control])\n",
    "\n",
    "stat, pval = proportions_ztest(count, nobs)\n",
    "print(f\"is_retained → Z = {stat:.2f}, p = {pval:.5f}\")"
   ]
  },
  {
   "cell_type": "markdown",
   "metadata": {
    "application/vnd.databricks.v1+cell": {
     "cellMetadata": {},
     "inputWidgets": {},
     "nuid": "7b732f99-a73d-48e7-bdb2-754aa69cc8e3",
     "showTitle": false,
     "tableResultSettingsMap": {},
     "title": ""
    }
   },
   "source": [
    "O Z-score mede quantos desvios padrão acima da média esperada está a diferença entre as proporções dos dois grupos. Um valor de Z > 2 já seria considerado estatisticamente significativo.\n",
    "\n",
    "* `Z = 89` é absurdamente alto: a diferença entre os grupos é enorme e consistente.\n",
    "\n",
    "O p-valor é a probabilidade de observar uma diferença tão grande por acaso, assumindo que não há diferença real (hipótese nula).\n",
    "\n",
    "* `P ≈ 0` indica que a diferença observada não é aleatória.\n",
    "\n",
    "Lembrete dos dados de `is_retained`:\n",
    "\n",
    "Retenção no grupo controle: **47,6%**\n",
    "\n",
    "Retenção no grupo target: **57,6%**\n",
    "\n",
    "Diferença absoluta: **+10 pontos percentuais**\n",
    "\n",
    "Base de usuários: **~800 mil no total**"
   ]
  },
  {
   "cell_type": "markdown",
   "metadata": {
    "application/vnd.databricks.v1+cell": {
     "cellMetadata": {},
     "inputWidgets": {},
     "nuid": "dc441564-5cad-47a0-8e22-73c095e9c5fe",
     "showTitle": false,
     "tableResultSettingsMap": {},
     "title": ""
    }
   },
   "source": [
    "#### Resultado geral dos KPIs\n",
    "\n",
    "O impacto são significativos em: `orders_per_user`, `total_spent_per_user` e `is_reteined`.\n",
    "\n",
    "A campanha de cupons teve impacto estatisticamente significativo na frequência e no gasto total por cliente, mas não alterou o valor médio dos pedidos nem o volume de itens por compra. Isso sugere que os cupons aumentaram o número de compras realizadas, sem influenciar o tamanho ou valor de cada uma. O grupo de controle e o grupo alvo estavam balanceados em termos de maturidade (antiguidade na base), o que reforça a confiabilidade do teste.\n",
    "\n",
    "O resultado reforça que a campanha teve **EFEITO POSITIVO na retenção e no uso contínuo da plataforma**.\n",
    "\n",
    "\n",
    "| KPI                      | Diferença % Target vs Controle | p-value  | Significativo?   | Interpretação                                                                                |\n",
    "| ------------------------ | ------------------------------ | -------- | ---------------- | -------------------------------------------------------------------------------------------- |\n",
    "| `orders_per_user`        | **+13,33%**                    | 0.000000 | ✅ Sim            | **Grupo com cupom fez mais pedidos por usuário** — fortemente significativo.                 |\n",
    "| `total_spent_per_user`   | **+13,35%**                    | 0.000000 | ✅ Sim            | **Usuários com cupom gastaram mais no total** — altamente significativo.                     |\n",
    "| `avg_ticket_per_user`    | +0,04%                         | 0.703    | ❌ Não            | O valor **médio por pedido** praticamente não mudou com o cupom.                             |\n",
    "| `avg_items_per_order`    | +0,30%                         | 0.261    | ❌ Não            | **Quantidade média de itens por pedido** não sofreu alteração relevante.                     |\n",
    "| `avg_discount_per_order` | *NaN*                          | *NaN*    | ❌ Não (inválido) | Dados ausentes ou inválidos (provavelmente sempre zero) — impossível testar.                 |\n",
    "| `days_since_signup`      | +0,51%                         | *NaN*    | ❌ Não (inválido) | Valores provavelmente ausentes ou sem variabilidade relevante — análise inconclusiva.        |\n",
    "| `is_retained`            | **+10,0 pontos percentuais.**                 | 0.000000 | ✅ Sim            | **Cupom aumentou a proporção de usuários com mais de um pedido** — fortemente significativo. |"
   ]
  },
  {
   "cell_type": "markdown",
   "metadata": {
    "application/vnd.databricks.v1+cell": {
     "cellMetadata": {},
     "inputWidgets": {},
     "nuid": "6cf6b955-fa65-4830-8cda-94cef2b4b00c",
     "showTitle": false,
     "tableResultSettingsMap": {},
     "title": ""
    }
   },
   "source": [
    "### Análise de viabilidade financeira\n",
    "\n",
    "**KPIs**:\n",
    "| Indicador               | Controle   | Target     | Diferença (%) |\n",
    "| ----------------------- | ---------- | ---------- | ------------- |\n",
    "| Gasto médio por usuário | R\\$ 126,95 | R\\$ 143,89 | **+13,35%**   |\n",
    "| Usuários no grupo       | 360.541    | 445.924    | —             |\n",
    "| Retenção (>1 pedido)    | 47,6%      | 57,6%      | **+10 p.p.**  |\n",
    "\n",
    "**Premissas**\n",
    "| Premissa                                                                   | Valor                             |\n",
    "| -------------------------------------------------------------------------- | --------------------------------- |\n",
    "| Valor médio do cupom distribuído                                           | R\\$ 10,00                         |\n",
    "| Todos os usuários do grupo target **receberam e usaram** o cupom           | Sim (pior cenário – custo máximo) |\n",
    "| O aumento no gasto total por usuário (R\\$ 16,94) é **decorrente do cupom** | Sim                               |\n",
    "| Consideramos apenas o **efeito direto no período da campanha**             | Sim                               |\n"
   ]
  },
  {
   "cell_type": "code",
   "execution_count": 0,
   "metadata": {
    "application/vnd.databricks.v1+cell": {
     "cellMetadata": {
      "byteLimit": 2048000,
      "rowLimit": 10000
     },
     "inputWidgets": {},
     "nuid": "975b1bc9-d51b-4fb4-bafc-149bcaab9c4c",
     "showTitle": true,
     "tableResultSettingsMap": {},
     "title": "Custo da campanha e retorno"
    }
   },
   "outputs": [],
   "source": [
    "n_target = test_group.shape[0]\n",
    "coupon_value = 10.00\n",
    "total_cost = n_target * coupon_value\n",
    "\n",
    "earn_per_user = df_stats.loc[df_stats[\"kpi\"] == \"total_spent_per_user\", \"diff\"].values[0]\n",
    "total_return = earn_per_user * n_target\n",
    "\n",
    "print(f\"Custo total dos cupons: R${total_cost:.2f}\")\n",
    "print(f\"Lucro por usuário: R$ {earn_per_user:.2f}\")\n",
    "print(f\"Retorno total: R$ {total_return:.2f}\")"
   ]
  },
  {
   "cell_type": "code",
   "execution_count": 0,
   "metadata": {
    "application/vnd.databricks.v1+cell": {
     "cellMetadata": {
      "byteLimit": 2048000,
      "rowLimit": 10000
     },
     "inputWidgets": {},
     "nuid": "7036cd07-93b9-44fa-98fa-d40e17c1d2f8",
     "showTitle": true,
     "tableResultSettingsMap": {},
     "title": "Lucro Líquido e ROI"
    }
   },
   "outputs": [],
   "source": [
    "net_profit = total_return - total_cost\n",
    "roi = (net_profit / total_cost) * 100\n",
    "\n",
    "print(f\"Lucro líquido: R$ {net_profit:,.2f}\")\n",
    "print(f\"Retorno sobre o investimento (ROI): {roi:.2f}%\")"
   ]
  },
  {
   "cell_type": "markdown",
   "metadata": {
    "application/vnd.databricks.v1+cell": {
     "cellMetadata": {},
     "inputWidgets": {},
     "nuid": "2344600b-6bd1-407f-be3b-2fba5a277efe",
     "showTitle": false,
     "tableResultSettingsMap": {},
     "title": ""
    }
   },
   "source": [
    "A campanha gerou mais dinheiro do que custou, com um ROI de quase `70%`, o que significa que `para cada R$ 1 investido, retornou R$ 1,69`.\n",
    "Isso, por si só, já caracteriza a campanha como financeiramente viável."
   ]
  }
 ],
 "metadata": {
  "application/vnd.databricks.v1+notebook": {
   "computePreferences": null,
   "dashboards": [],
   "environmentMetadata": {
    "base_environment": "",
    "environment_version": "2"
   },
   "inputWidgetPreferences": null,
   "language": "python",
   "notebookMetadata": {
    "pythonIndentUnit": 4
   },
   "notebookName": "03_campaign_impact_analysis",
   "widgets": {}
  },
  "language_info": {
   "name": "python"
  }
 },
 "nbformat": 4,
 "nbformat_minor": 0
}
