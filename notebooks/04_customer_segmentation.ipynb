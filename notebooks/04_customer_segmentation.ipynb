{
 "cells": [
  {
   "cell_type": "markdown",
   "metadata": {
    "application/vnd.databricks.v1+cell": {
     "cellMetadata": {
      "byteLimit": 2048000,
      "rowLimit": 10000
     },
     "inputWidgets": {},
     "nuid": "264bf155-cd68-45dd-80ab-66f75d71702e",
     "showTitle": false,
     "tableResultSettingsMap": {},
     "title": ""
    }
   },
   "source": [
    "### Critérios de segmentação\n",
    "\n",
    "Para segmentação dos usuários, serão usados os seguintes critérios:\n",
    "| Segmento                              | Critério técnico (coluna e regra)                                                  | Racional                                                                                       |\n",
    "| ------------------------------------- | ---------------------------------------------------------------------------------- | ---------------------------------------------------------------------------------------------- |\n",
    "| **Perfil de consumo por restaurante** | `price_range`:<br>1 → Baixo valor<br>2 → Intermediário<br>3 ou mais → Alto valor   | Identifica o tipo de restaurante que o usuário consome — restaurantes baratos ou premium       |\n",
    "| **Localização do pedido (estado)**    | `delivery_address_state` agrupado como coluna categórica                           | Detecta diferenças de comportamento por região geográfica (ex: SP vs. RJ vs. outros)           |\n",
    "| **Ticket médio do usuário**           | `avg_ticket_per_user`:<br>< R\\$ 40 → Baixo<br>R\\$ 40–60 → Médio<br>> R\\$ 60 → Alto | Mede a propensão do usuário a gastar mais por pedido — pode reagir de forma diferente ao cupom |\n",
    "| **Frequência de pedidos do usuário**  | `orders_per_user`:<br>1 → Baixa<br>2–4 → Média<br>5+ → Alta                        | Indica engajamento prévio. O cupom pode ter mais impacto em quem pede pouco                    |\n"
   ]
  },
  {
   "cell_type": "code",
   "execution_count": 0,
   "metadata": {
    "application/vnd.databricks.v1+cell": {
     "cellMetadata": {
      "byteLimit": 2048000,
      "rowLimit": 10000
     },
     "inputWidgets": {},
     "nuid": "78e86268-8a7c-4054-916e-bd409b4d4248",
     "showTitle": true,
     "tableResultSettingsMap": {},
     "title": "Imports"
    }
   },
   "outputs": [],
   "source": [
    "import pyspark.sql.functions as f\n",
    "\n",
    "from constants import SILVER_LAYER_PATH\n",
    "\n",
    "import pandas as pd\n",
    "from scipy.stats import chi2_contingency, ttest_ind, mannwhitneyu, shapiro\n",
    "from statsmodels.stats.proportion import proportions_ztest\n",
    "\n",
    "import matplotlib.pyplot as plt\n",
    "import seaborn as sns"
   ]
  },
  {
   "cell_type": "code",
   "execution_count": 0,
   "metadata": {
    "application/vnd.databricks.v1+cell": {
     "cellMetadata": {
      "byteLimit": 2048000,
      "rowLimit": 10000
     },
     "inputWidgets": {},
     "nuid": "3cf36435-139b-4605-b1ea-f898730ab251",
     "showTitle": true,
     "tableResultSettingsMap": {},
     "title": "Utils"
    }
   },
   "outputs": [],
   "source": [
    "def plot_segment_distribution(\n",
    "    df, column, title=None, order=None, figsize=(6, 4), rotation=15\n",
    "):\n",
    "    \"\"\"\n",
    "    Gera um gráfico de barras (countplot) para um segmento categórico.\n",
    "\n",
    "    Parâmetros:\n",
    "    - df: DataFrame Pandas\n",
    "    - column: nome da coluna categórica\n",
    "    - title: título do gráfico\n",
    "    - order: ordem dos rótulos no eixo X (opcional)\n",
    "    - figsize: tamanho do gráfico\n",
    "    - rotation: rotação do eixo X\n",
    "    \"\"\"\n",
    "    plt.figure(figsize=figsize)\n",
    "    sns.countplot(x=column, data=df, order=order)\n",
    "    plt.title(title or f\"Distribuição de {column}\")\n",
    "    plt.ylabel(\"Número de usuários\")\n",
    "    plt.xlabel(\"Segmento\")\n",
    "    plt.xticks(rotation=rotation)\n",
    "    plt.tight_layout()\n",
    "    plt.show()\n",
    "\n",
    "def plot_multiple_segment_distributions(\n",
    "    df,\n",
    "    columns_info,\n",
    "    figsize=(18, 5),\n",
    "    rotation=15,\n",
    "    label_fontsize=9,\n",
    "    margin_factor=1.20\n",
    "):\n",
    "    \"\"\"\n",
    "    Plota múltiplos gráficos de barras com proporções (%) lado a lado.\n",
    "\n",
    "    Parâmetros:\n",
    "    - df: DataFrame Pandas\n",
    "    - columns_info: lista de dicionários com:\n",
    "        - 'column': nome da coluna a plotar\n",
    "        - 'title': título do gráfico\n",
    "        - 'order': ordem opcional dos rótulos\n",
    "    - figsize: tamanho total da figura\n",
    "    - rotation: rotação dos rótulos no eixo X\n",
    "    \"\"\"\n",
    "    n_cols = len(columns_info)\n",
    "    fig, axes = plt.subplots(1, n_cols, figsize=figsize)\n",
    "\n",
    "    for i, info in enumerate(columns_info):\n",
    "        col = info['column']\n",
    "        title = info.get('title', f\"Distribuição de {col}\")\n",
    "        order = info.get('order')\n",
    "\n",
    "        # Calcula proporções\n",
    "        counts = df[col].value_counts(normalize=True)\n",
    "        if order:\n",
    "            counts = counts.reindex(order)\n",
    "        counts = counts.dropna()\n",
    "\n",
    "        sns.barplot(x=counts.index, y=counts.values * 100, ax=axes[i])\n",
    "        axes[i].set_title(title)\n",
    "        axes[i].set_ylabel(\"Proporção (%)\")\n",
    "        axes[i].set_xlabel(\"\")\n",
    "        axes[i].tick_params(axis='x', rotation=rotation)\n",
    "\n",
    "        # Define limite do eixo Y com margem para rótulo\n",
    "        max_y = counts.values.max() * 100\n",
    "        axes[i].set_ylim(0, max_y * margin_factor)\n",
    "\n",
    "        # Adiciona rótulos\n",
    "        for bar, value in zip(axes[i].patches, counts.values):\n",
    "            height = bar.get_height()\n",
    "            axes[i].text(\n",
    "                bar.get_x() + bar.get_width() / 2,\n",
    "                height + max_y * 0.02,\n",
    "                f\"{value*100:.1f}%\",\n",
    "                ha='center',\n",
    "                va='bottom',\n",
    "                fontsize=label_fontsize\n",
    "            )\n",
    "\n",
    "    plt.subplots_adjust(top=0.85, bottom=0.15)\n",
    "    plt.show()\n",
    "\n",
    "def plot_segment_comparison_by_group(\n",
    "    df,\n",
    "    segment_col,\n",
    "    group_col='is_target',\n",
    "    title=None,\n",
    "    order=None,\n",
    "    labels={True: 'Target', False: 'Controle'},\n",
    "    figsize=(6, 5),\n",
    "    rotation=15,\n",
    "    show_stats=True\n",
    "):\n",
    "    \"\"\"\n",
    "    Compara proporções de um segmento entre dois grupos (ex: target vs controle).\n",
    "\n",
    "    Parâmetros:\n",
    "    - df: DataFrame Pandas\n",
    "    - segment_col: nome da coluna com a segmentação (ex: 'segment_ticket')\n",
    "    - group_col: coluna binária de grupos (default: 'is_target')\n",
    "    - title: título do gráfico\n",
    "    - order: ordem das categorias da segmentação (opcional)\n",
    "    - labels: dicionário com os nomes dos grupos (ex: {True: 'Target', False: 'Controle'})\n",
    "    \"\"\"\n",
    "    contingency = pd.crosstab(df[segment_col], df[group_col])\n",
    "    chi2, p, dof, expected = chi2_contingency(contingency)\n",
    "\n",
    "    if show_stats:\n",
    "        print(f\"📊 Teste Qui-Quadrado entre {segment_col} e {group_col}\")\n",
    "        print(f\"Chi² = {chi2:.2f}, p-value = {p:.5f}\")\n",
    "        if p < 0.05:\n",
    "            print(\"✅ Diferença estatisticamente significativa (p < 0.05)\")\n",
    "        else:\n",
    "            print(\"❌ Diferença NÃO significativa (p >= 0.05)\")\n",
    "\n",
    "    # Proporções por grupo\n",
    "    prop_df = (\n",
    "        df.groupby([group_col, segment_col])\n",
    "        .size()\n",
    "        .groupby(level=0, group_keys=False)\n",
    "        .apply(lambda x: x / x.sum())\n",
    "        .reset_index(name='proportion')\n",
    "    )\n",
    "\n",
    "    # Map labels\n",
    "    prop_df[group_col] = prop_df[group_col].map(labels)\n",
    "\n",
    "    # Plot\n",
    "    plt.figure(figsize=figsize)\n",
    "    sns.barplot(\n",
    "        data=prop_df,\n",
    "        x=segment_col,\n",
    "        y='proportion',\n",
    "        hue=group_col,\n",
    "        order=order\n",
    "    )\n",
    "\n",
    "    plt.title(title or f\"{segment_col} por grupo (p = {p:.3f})\")\n",
    "    plt.ylabel(\"Proporção (%)\")\n",
    "    plt.xlabel(\"\")\n",
    "    plt.xticks(rotation=rotation)\n",
    "    plt.ylim(0, prop_df['proportion'].max() * 1.2)\n",
    "\n",
    "    # Add labels on bars\n",
    "    for bar in plt.gca().patches:\n",
    "        height = bar.get_height()\n",
    "        plt.gca().text(\n",
    "            bar.get_x() + bar.get_width() / 2,\n",
    "            height + 0.01,\n",
    "            f\"{height*100:.1f}%\",\n",
    "            ha='center',\n",
    "            va='bottom',\n",
    "            fontsize=9\n",
    "        )\n",
    "\n",
    "    plt.legend(title=\"Grupo\")\n",
    "    plt.tight_layout()\n",
    "    plt.show()\n",
    "\n",
    "def plot_kpi_boxplot_by_segment_and_group(\n",
    "    df,\n",
    "    segment_col,\n",
    "    group_col,\n",
    "    kpi_col,\n",
    "    order=None,\n",
    "    group_labels={True: 'Target', False: 'Controle'},\n",
    "    title=None,\n",
    "    figsize=(8, 5)\n",
    "):\n",
    "    \"\"\"\n",
    "    Gera um boxplot do KPI por grupo dentro de cada segmento.\n",
    "    \"\"\"\n",
    "    df_plot = df.copy()\n",
    "    df_plot[group_col] = df_plot[group_col].map(group_labels)\n",
    "\n",
    "    plt.figure(figsize=figsize)\n",
    "    sns.boxplot(\n",
    "        data=df_plot,\n",
    "        x=segment_col,\n",
    "        y=kpi_col,\n",
    "        hue=group_col,\n",
    "        order=order,\n",
    "        showfliers=False \n",
    "    )\n",
    "\n",
    "    plt.title(title or f\"{kpi_col} por grupo dentro de {segment_col}\")\n",
    "    plt.ylabel(kpi_col.replace(\"_\", \" \").title())\n",
    "    plt.xlabel(\"\")\n",
    "    plt.xticks(rotation=15)\n",
    "    plt.legend(title=\"Grupo\")\n",
    "    plt.tight_layout()\n",
    "    plt.show()\n",
    "\n",
    "def test_kpi_significance_by_segment(\n",
    "    df,\n",
    "    segment_col,\n",
    "    group_col,\n",
    "    kpi_col,\n",
    "    group_labels={True: \"Target\", False: \"Controle\"},\n",
    "    normality_threshold=0.05,\n",
    "    min_sample_for_ttest=30\n",
    "):\n",
    "    \"\"\"\n",
    "    Compara um KPI entre grupos dentro de cada segmento, escolhendo automaticamente entre t-test e Mann-Whitney.\n",
    "    \"\"\"\n",
    "    results = []\n",
    "\n",
    "    for segment in sorted(df[segment_col].dropna().unique()):\n",
    "        data = df[df[segment_col] == segment]\n",
    "        g1 = data[data[group_col] == True][kpi_col].dropna()\n",
    "        g2 = data[data[group_col] == False][kpi_col].dropna()\n",
    "\n",
    "        n1, n2 = len(g1), len(g2)\n",
    "        mean1, mean2 = g1.mean(), g2.mean()\n",
    "        pct_diff = 100 * (mean1 - mean2) / mean2 if mean2 else None\n",
    "\n",
    "        # Definir teste\n",
    "        test_used = None\n",
    "        p_value = None\n",
    "\n",
    "        if n1 < 5 or n2 < 5:\n",
    "            test_used = \"amostra insuficiente\"\n",
    "        elif n1 >= min_sample_for_ttest and n2 >= min_sample_for_ttest:\n",
    "            stat, p_value = ttest_ind(g1, g2, equal_var=False)\n",
    "            test_used = \"t-test\"\n",
    "        else:\n",
    "            # Verificar normalidade\n",
    "            p1 = shapiro(g1)[1] if n1 >= 3 and n1 <= 5000 else 0  # fora do intervalo, assume não normal\n",
    "            p2 = shapiro(g2)[1] if n2 >= 3 and n2 <= 5000 else 0\n",
    "            if p1 > normality_threshold and p2 > normality_threshold:\n",
    "                stat, p_value = ttest_ind(g1, g2, equal_var=False)\n",
    "                test_used = \"t-test\"\n",
    "            else:\n",
    "                stat, p_value = mannwhitneyu(g1, g2, alternative=\"two-sided\")\n",
    "                test_used = \"mann-whitney\"\n",
    "\n",
    "        results.append({\n",
    "            \"Segmento\": segment,\n",
    "            \"n_target\": n1,\n",
    "            \"n_control\": n2,\n",
    "            \"Media Target\": mean1,\n",
    "            \"Media Controle\": mean2,\n",
    "            \"Diferença (%)\": f\"{pct_diff:+.1f}%\" if pct_diff is not None else \"N/A\",\n",
    "            \"p-valor\": f\"{p_value:.5f}\" if p_value is not None else \"N/A\",\n",
    "            \"Significativo\": \"✅\" if p_value is not None and p_value < 0.05 else \"❌\",\n",
    "            \"Teste usado\": test_used\n",
    "        })\n",
    "\n",
    "    return pd.DataFrame(results)"
   ]
  },
  {
   "cell_type": "code",
   "execution_count": 0,
   "metadata": {
    "application/vnd.databricks.v1+cell": {
     "cellMetadata": {
      "byteLimit": 2048000,
      "rowLimit": 10000
     },
     "inputWidgets": {},
     "nuid": "f3c02ed2-6de5-459e-b08c-9510e0488498",
     "showTitle": true,
     "tableResultSettingsMap": {},
     "title": "Carregando tabela completa de análise"
    }
   },
   "outputs": [],
   "source": [
    "abt_final = spark.table(f\"{SILVER_LAYER_PATH}.abt_final\")\n",
    "abt_final.printSchema()"
   ]
  },
  {
   "cell_type": "code",
   "execution_count": 0,
   "metadata": {
    "application/vnd.databricks.v1+cell": {
     "cellMetadata": {
      "byteLimit": 2048000,
      "rowLimit": 10000
     },
     "inputWidgets": {},
     "nuid": "f660cf4b-0d59-4af5-965a-249fe0de6137",
     "showTitle": true,
     "tableResultSettingsMap": {},
     "title": "Criando DataFrame com informações dos usuários"
    }
   },
   "outputs": [],
   "source": [
    "user_metrics_df = (\n",
    "    abt_final.groupBy(\"customer_id\", \"is_target\")\n",
    "    .agg(\n",
    "        f.countDistinct(\"order_id\").alias(\"orders_per_user\"),\n",
    "        f.sum(\"order_total_amount_capped\").alias(\"total_spent_per_user\"),\n",
    "        f.sum(\"total_items_quantity\").alias(\"total_items\"),\n",
    "        f.sum(\"total_items_discount\").alias(\"total_discount\"),\n",
    "        f.min(\"days_since_signup\").alias(\"days_since_signup\"),\n",
    "        f.first(\"price_range\").alias(\"price_range\"),\n",
    "        f.first(\"delivery_address_state\").alias(\"delivery_address_state\")\n",
    "    )\n",
    "    .withColumn(\"avg_ticket_per_user\", f.col(\"total_spent_per_user\") / f.col(\"orders_per_user\"))\n",
    "    .withColumn(\"avg_items_per_order\", f.col(\"total_items\") / f.col(\"orders_per_user\"))\n",
    "    .withColumn(\"avg_discount_per_order\", f.col(\"total_discount\") / f.col(\"orders_per_user\"))\n",
    "    .withColumn(\"is_retained\", f.when(f.col(\"orders_per_user\") >= 2, 1).otherwise(0))\n",
    ")\n",
    "\n",
    "user_metrics_df.printSchema()"
   ]
  },
  {
   "cell_type": "code",
   "execution_count": 0,
   "metadata": {
    "application/vnd.databricks.v1+cell": {
     "cellMetadata": {
      "byteLimit": 2048000,
      "rowLimit": 10000
     },
     "inputWidgets": {},
     "nuid": "4b6e16c8-d3d6-43b2-9031-36da3fe62614",
     "showTitle": true,
     "tableResultSettingsMap": {},
     "title": "Ajustando segmentos"
    }
   },
   "outputs": [],
   "source": [
    "# frequeência de pedidos do usuário (engajamento)\n",
    "user_metrics_df = user_metrics_df.withColumn(\n",
    "    \"segment_frequency\",\n",
    "    f.when(f.col(\"orders_per_user\") == 1, \"Baixa frequência\")\n",
    "    .when((f.col(\"orders_per_user\") >= 2) & (f.col(\"orders_per_user\") <= 4), \"Média frequência\")\n",
    "    .otherwise(\"Alta frequência\")\n",
    ")\n",
    "\n",
    "# ticket médio do usuário\n",
    "user_metrics_df = user_metrics_df.withColumn(\n",
    "    \"segment_ticket\",\n",
    "    f.when(f.col(\"avg_ticket_per_user\") < 40, \"Baixo ticket\")\n",
    "    .when((f.col(\"avg_ticket_per_user\") >= 40) & (f.col(\"avg_ticket_per_user\") <= 60), \"Ticket médio\")\n",
    "    .otherwise(\"Alto ticket\")\n",
    ")\n",
    "\n",
    "# perfil do restaurante\n",
    "user_metrics_df = user_metrics_df.withColumn(\n",
    "    \"segment_restaurant\",\n",
    "    f.when(f.col(\"price_range\") == 1, \"Baixo valor\")\n",
    "    .when(f.col(\"price_range\") == 2, \"Valor intermediário\")\n",
    "    .otherwise(\"Alto valor\")\n",
    ")\n",
    "\n",
    "# localização do pedido\n",
    "user_metrics_df = user_metrics_df.withColumnRenamed(\"delivery_address_state\", \"segment_state\")"
   ]
  },
  {
   "cell_type": "code",
   "execution_count": 0,
   "metadata": {
    "application/vnd.databricks.v1+cell": {
     "cellMetadata": {
      "byteLimit": 2048000,
      "rowLimit": 10000
     },
     "inputWidgets": {},
     "nuid": "7f7140cd-2552-4b38-bc37-a9d3e9351d25",
     "showTitle": true,
     "tableResultSettingsMap": {},
     "title": "Convertando para pandas DataFrame"
    }
   },
   "outputs": [],
   "source": [
    "segments_pdf = user_metrics_df.select(\n",
    "    \"customer_id\",  \n",
    "    \"is_target\",  \n",
    "    \"segment_frequency\",\n",
    "    \"segment_ticket\",\n",
    "    \"segment_restaurant\",\n",
    "    \"segment_state\"\n",
    ").toPandas()"
   ]
  },
  {
   "cell_type": "code",
   "execution_count": 0,
   "metadata": {
    "application/vnd.databricks.v1+cell": {
     "cellMetadata": {
      "byteLimit": 2048000,
      "rowLimit": 10000
     },
     "inputWidgets": {},
     "nuid": "6e0ac62c-b101-4fbf-91f9-dddc4e5d6737",
     "showTitle": true,
     "tableResultSettingsMap": {},
     "title": "Distribuição por frequência, ticket médio e perfil do restaurante"
    }
   },
   "outputs": [],
   "source": [
    "plot_multiple_segment_distributions(\n",
    "    df=segments_pdf,\n",
    "    columns_info=[\n",
    "        {\n",
    "            \"column\": \"segment_frequency\",\n",
    "            \"title\": \"Frequência de Uso\",\n",
    "            \"order\": [\"Baixa frequência\", \"Média frequência\", \"Alta frequência\"]\n",
    "        },\n",
    "        {\n",
    "            \"column\": \"segment_ticket\",\n",
    "            \"title\": \"Ticket Médio\",\n",
    "            \"order\": [\"Baixo ticket\", \"Ticket médio\", \"Alto ticket\"]\n",
    "        },\n",
    "        {\n",
    "            \"column\": \"segment_restaurant\",\n",
    "            \"title\": \"Perfil de Restaurante\",\n",
    "            \"order\": [\"Baixo valor\", \"Valor intermediário\", \"Alto valor\"]\n",
    "        }\n",
    "    ]\n",
    ")"
   ]
  },
  {
   "cell_type": "code",
   "execution_count": 0,
   "metadata": {
    "application/vnd.databricks.v1+cell": {
     "cellMetadata": {
      "byteLimit": 2048000,
      "rowLimit": 10000
     },
     "inputWidgets": {},
     "nuid": "c6a070ab-09f9-4c57-8629-e31661cc30f9",
     "showTitle": true,
     "tableResultSettingsMap": {},
     "title": "Distribuição por estado"
    }
   },
   "outputs": [],
   "source": [
    "plot_segment_distribution(\n",
    "    df=segments_pdf,\n",
    "    column=\"segment_state\",\n",
    "    title=\"Distribuição por Estado\",\n",
    "    rotation=45,\n",
    "    figsize=(10, 4)\n",
    ")"
   ]
  },
  {
   "cell_type": "markdown",
   "metadata": {
    "application/vnd.databricks.v1+cell": {
     "cellMetadata": {
      "byteLimit": 2048000,
      "rowLimit": 10000
     },
     "inputWidgets": {},
     "nuid": "cd145ef7-d40f-41f4-9eef-676ec0227e70",
     "showTitle": false,
     "tableResultSettingsMap": {},
     "title": ""
    }
   },
   "source": [
    "### Frequência de pedidos"
   ]
  },
  {
   "cell_type": "code",
   "execution_count": 0,
   "metadata": {
    "application/vnd.databricks.v1+cell": {
     "cellMetadata": {
      "byteLimit": 2048000,
      "rowLimit": 10000
     },
     "inputWidgets": {},
     "nuid": "95e838f8-6d31-4657-a12a-f2d155b1999b",
     "showTitle": false,
     "tableResultSettingsMap": {},
     "title": ""
    }
   },
   "outputs": [],
   "source": [
    "user_metrics_pdf = user_metrics_df.toPandas()"
   ]
  },
  {
   "cell_type": "code",
   "execution_count": 0,
   "metadata": {
    "application/vnd.databricks.v1+cell": {
     "cellMetadata": {
      "byteLimit": 2048000,
      "rowLimit": 10000
     },
     "inputWidgets": {},
     "nuid": "47834e55-f47b-416c-8848-85fa53e4e028",
     "showTitle": true,
     "tableResultSettingsMap": {},
     "title": "Comparando segmento frequencia entre grupos"
    }
   },
   "outputs": [],
   "source": [
    "plot_segment_comparison_by_group(\n",
    "    df=segments_pdf,\n",
    "    segment_col=\"segment_frequency\",\n",
    "    title=\"Distribuição de Frequência por Grupo\",\n",
    "    order=[\"Baixa frequência\", \"Média frequência\", \"Alta frequência\"]\n",
    ")"
   ]
  },
  {
   "cell_type": "markdown",
   "metadata": {
    "application/vnd.databricks.v1+cell": {
     "cellMetadata": {},
     "inputWidgets": {},
     "nuid": "aab1a474-935c-423d-a7f2-f92afce2b440",
     "showTitle": false,
     "tableResultSettingsMap": {},
     "title": ""
    }
   },
   "source": [
    "O teste de qui-quadrado avalia se há associação entre duas variáveis categóricas — neste caso, entre o grupo do experimento (`is_target`) e a frequência de pedidos dos usuários (`segment_frequency`).\n",
    "\n",
    "Como o p-value é muito pequeno (< 0.05), a conclusão é:\n",
    "* Existe uma diferença real na distribuição de frequência entre os grupos target e controle.\n",
    "Ou seja, a campanha não foi aleatoriamente balanceada entre perfis de usuários com frequência baixa, média ou alta.\n",
    "* Um bom teste A/B deve ter distribuição semelhante de perfis entre os grupos, para isolar o efeito do tratamento.\n",
    "* Como houve desequilíbrio, é possível que parte do impacto observado nos KPIs venha do perfil de uso dos usuários, e não do cupom em si.\n",
    "\n",
    "O que podemos fazer:\n",
    "1. Controlar os efeitos de `segment_frequency` na análise dos KPIs — ex: comparar KPIs dentro de cada faixa de frequência\n",
    "2. Considerar reanalisar a alocação dos grupos (se estiver rodando em produção)\n",
    "3. Usar modelos ajustados ou segmentações para entender o impacto real\n",
    "\n"
   ]
  },
  {
   "cell_type": "code",
   "execution_count": 0,
   "metadata": {
    "application/vnd.databricks.v1+cell": {
     "cellMetadata": {
      "byteLimit": 2048000,
      "rowLimit": 10000
     },
     "inputWidgets": {},
     "nuid": "bbf5ae3b-5239-4255-a3cb-70572b32400f",
     "showTitle": true,
     "tableResultSettingsMap": {},
     "title": "Testando significância estatística dentro de cada segmento para o KPI total gasto"
    }
   },
   "outputs": [],
   "source": [
    "df_test_result = test_kpi_significance_by_segment(\n",
    "    df=user_metrics_pdf,\n",
    "    segment_col=\"segment_frequency\",\n",
    "    group_col=\"is_target\",\n",
    "    kpi_col=\"total_spent_per_user\"\n",
    ")\n",
    "\n",
    "display(df_test_result)"
   ]
  },
  {
   "cell_type": "markdown",
   "metadata": {
    "application/vnd.databricks.v1+cell": {
     "cellMetadata": {},
     "inputWidgets": {},
     "nuid": "4e31bb81-3748-4bd6-ac19-0830ace50215",
     "showTitle": false,
     "tableResultSettingsMap": {},
     "title": ""
    }
   },
   "source": [
    "**Alta frequência**:\n",
    "Já são usuários muito engajados — o cupom não foi suficiente para aumentar o gasto.\n",
    "\n",
    "**Baixa frequência**:\n",
    "A campanha não reativou usuários menos engajados de forma significativa.\n",
    "\n",
    "**Média frequência**:\n",
    "Leve queda no gasto, mas não significativa.\n",
    "\n",
    "CONCLUSÃO:\n",
    "A campanha não teve impacto significativo no total gasto por usuário, mesmo considerando o perfil de frequência."
   ]
  },
  {
   "cell_type": "code",
   "execution_count": 0,
   "metadata": {
    "application/vnd.databricks.v1+cell": {
     "cellMetadata": {
      "byteLimit": 2048000,
      "rowLimit": 10000
     },
     "inputWidgets": {},
     "nuid": "6b081535-97bb-43f9-9977-ac37b28bc7ae",
     "showTitle": true,
     "tableResultSettingsMap": {},
     "title": "Plotando distribuição do total gasto dentro de cada segmento"
    }
   },
   "outputs": [],
   "source": [
    "plot_kpi_boxplot_by_segment_and_group(\n",
    "    df=user_metrics_pdf,\n",
    "    segment_col=\"segment_frequency\",\n",
    "    group_col=\"is_target\",\n",
    "    kpi_col=\"total_spent_per_user\",\n",
    "    order=[\"Baixa frequência\", \"Média frequência\", \"Alta frequência\"],\n",
    "    title=\"Distribuição do gasto total por grupo dentro de cada segmento\"\n",
    ")"
   ]
  },
  {
   "cell_type": "code",
   "execution_count": 0,
   "metadata": {
    "application/vnd.databricks.v1+cell": {
     "cellMetadata": {
      "byteLimit": 2048000,
      "rowLimit": 10000
     },
     "inputWidgets": {},
     "nuid": "eb22224a-2ea1-47c3-be6a-71211822e42d",
     "showTitle": true,
     "tableResultSettingsMap": {},
     "title": "Testando significância estatística dentro de cada segmento para o KPI total pedidos por usuário"
    }
   },
   "outputs": [],
   "source": [
    "df_test_result = test_kpi_significance_by_segment(\n",
    "    df=user_metrics_pdf,\n",
    "    segment_col=\"segment_frequency\",\n",
    "    group_col=\"is_target\",\n",
    "    kpi_col=\"orders_per_user\"\n",
    ")\n",
    "\n",
    "display(df_test_result)"
   ]
  },
  {
   "cell_type": "markdown",
   "metadata": {
    "application/vnd.databricks.v1+cell": {
     "cellMetadata": {},
     "inputWidgets": {},
     "nuid": "e1377b9f-010a-40e9-8a68-81f379bdd90f",
     "showTitle": false,
     "tableResultSettingsMap": {},
     "title": ""
    }
   },
   "source": [
    "**Alta frequência**:\n",
    "Esses usuários já pedem muito, possivelmente, o cupom não alterou o hábito deles.\n",
    "\n",
    "**Baixa frequência**:\n",
    "Impossível calcular p-valor porque não há variação: todos pediram apenas 1 vez.\n",
    "Isso sugere que a campanha não conseguiu estimular um segundo pedido neste grupo.\n",
    "\n",
    "* Insight importante: o cupom não gerou recorrência nos menos engajados.\n",
    "\n",
    "**Média frequência**:\n",
    "A campanha não alterou a frequência de pedidos neste grupo também.\n",
    "\n",
    "CONCLUSÃO:\n",
    "1. O cupom não teve impacto significativo no número de pedidos por usuário, em nenhum segmento de frequência.\n",
    "\n",
    "2. Mesmo onde havia espaço para crescimento (baixa e média frequência), o número de pedidos não se alterou.\n",
    "\n",
    "3. É possível que o cupom tenha sido usado apenas em um único pedido e não tenha incentivado recorrência."
   ]
  },
  {
   "cell_type": "code",
   "execution_count": 0,
   "metadata": {
    "application/vnd.databricks.v1+cell": {
     "cellMetadata": {
      "byteLimit": 2048000,
      "rowLimit": 10000
     },
     "inputWidgets": {},
     "nuid": "7103d72a-46ab-4037-80a7-850ccfa81434",
     "showTitle": true,
     "tableResultSettingsMap": {},
     "title": "Plotando distribuição do total pedidos dentro de cada segmento"
    }
   },
   "outputs": [],
   "source": [
    "plot_kpi_boxplot_by_segment_and_group(\n",
    "    df=user_metrics_pdf,\n",
    "    segment_col=\"segment_frequency\",\n",
    "    group_col=\"is_target\",\n",
    "    kpi_col=\"orders_per_user\",\n",
    "    order=[\"Baixa frequência\", \"Média frequência\", \"Alta frequência\"],\n",
    "    title=\"Distribuição dos pedidos por usuário por grupo dentro de cada segmento\"\n",
    ")"
   ]
  },
  {
   "cell_type": "code",
   "execution_count": 0,
   "metadata": {
    "application/vnd.databricks.v1+cell": {
     "cellMetadata": {
      "byteLimit": 2048000,
      "rowLimit": 10000
     },
     "inputWidgets": {},
     "nuid": "93058e1e-e574-4453-a8e5-776c9fd2e334",
     "showTitle": true,
     "tableResultSettingsMap": {},
     "title": "Testando significância estatística dentro de cada segmento para o KPI de retenção do usuário"
    }
   },
   "outputs": [],
   "source": [
    "df_test_result = test_kpi_significance_by_segment(\n",
    "    df=user_metrics_pdf,\n",
    "    segment_col=\"segment_frequency\",\n",
    "    group_col=\"is_target\",\n",
    "    kpi_col=\"is_retained\"\n",
    ")\n",
    "\n",
    "display(df_test_result)"
   ]
  },
  {
   "cell_type": "markdown",
   "metadata": {
    "application/vnd.databricks.v1+cell": {
     "cellMetadata": {},
     "inputWidgets": {},
     "nuid": "cb67ff13-489b-4e9e-9cb4-0634406cc23b",
     "showTitle": false,
     "tableResultSettingsMap": {},
     "title": ""
    }
   },
   "source": [
    "O KPI `is_retained` não apresentou variabilidade suficiente dentro dos segmentos para que um teste de significância fosse válido.\n",
    "Isso impede a detecção de impacto da campanha sobre retenção dentro desses grupos."
   ]
  },
  {
   "cell_type": "markdown",
   "metadata": {
    "application/vnd.databricks.v1+cell": {
     "cellMetadata": {
      "byteLimit": 2048000,
      "rowLimit": 10000
     },
     "inputWidgets": {},
     "nuid": "acc5dc30-9006-447a-bccf-8fc8b28e4fda",
     "showTitle": false,
     "tableResultSettingsMap": {},
     "title": ""
    }
   },
   "source": [
    "### Ticket Médio"
   ]
  },
  {
   "cell_type": "code",
   "execution_count": 0,
   "metadata": {
    "application/vnd.databricks.v1+cell": {
     "cellMetadata": {
      "byteLimit": 2048000,
      "rowLimit": 10000
     },
     "inputWidgets": {},
     "nuid": "b38adbdd-2306-460e-9c56-e70f415ece6d",
     "showTitle": true,
     "tableResultSettingsMap": {},
     "title": "Comparando segmento ticket médio entre grupos"
    }
   },
   "outputs": [],
   "source": [
    "plot_segment_comparison_by_group(\n",
    "    df=segments_pdf,\n",
    "    segment_col=\"segment_ticket\",\n",
    "    title=\"Distribuição de Ticket médio por Grupo\",\n",
    "    order=[\"Baixo ticket\", \"Ticket médio\", \"Alto ticket\"]\n",
    ")"
   ]
  },
  {
   "cell_type": "code",
   "execution_count": 0,
   "metadata": {
    "application/vnd.databricks.v1+cell": {
     "cellMetadata": {
      "byteLimit": 2048000,
      "rowLimit": 10000
     },
     "inputWidgets": {},
     "nuid": "02a61cee-fa97-4888-a5b7-1f66aeef7882",
     "showTitle": true,
     "tableResultSettingsMap": {},
     "title": "Testando significância estatística dentro de cada segmento para o KPI total gasto"
    }
   },
   "outputs": [],
   "source": [
    "df_test_result = test_kpi_significance_by_segment(\n",
    "    df=user_metrics_pdf,\n",
    "    segment_col=\"segment_ticket\",\n",
    "    group_col=\"is_target\",\n",
    "    kpi_col=\"total_spent_per_user\"\n",
    ")\n",
    "\n",
    "display(df_test_result)"
   ]
  },
  {
   "cell_type": "markdown",
   "metadata": {
    "application/vnd.databricks.v1+cell": {
     "cellMetadata": {},
     "inputWidgets": {},
     "nuid": "a667559b-39a6-4fc0-9911-719de8b9262a",
     "showTitle": false,
     "tableResultSettingsMap": {},
     "title": ""
    }
   },
   "source": [
    "O cupom teve impacto significativo no aumento do total gasto por usuário em todos os segmentos de ticket médio.\n",
    "\n",
    "O efeito foi:\n",
    "Consistente entre os grupos (entre +12% e +14%) e estatisticamente forte (p < 0.00001 em todos os casos)\n",
    "\n",
    "**Baixo ticket**:\n",
    "Maior impacto percentual (+14,3%)\n",
    "Isso sugere que usuários que normalmente gastam pouco foram estimulados a comprar mais\n",
    "\n",
    "**Ticket médio**:\n",
    "Também apresentou ganho expressivo de +12,6%\n",
    "Esse grupo pode estar mais propenso a aproveitar cupons sem mudar tanto seu comportamento de compra\n",
    "\n",
    "**Alto ticket**:\n",
    "Mesmo usuários que já gastavam muito gastaram ainda mais com o cupom\n",
    "Isso indica que a campanha também funcionou para clientes de alto valor\n",
    "\n",
    "CONCLUSÃO:\n",
    "O cupom funcionou bem em todos os perfis de usuários com diferentes níveis de gasto médio.\n",
    "Estratégias futuras podem incluir cupons com valor mínimo proporcional ao perfil de ticket médio para otimizar ROI."
   ]
  },
  {
   "cell_type": "code",
   "execution_count": 0,
   "metadata": {
    "application/vnd.databricks.v1+cell": {
     "cellMetadata": {
      "byteLimit": 2048000,
      "rowLimit": 10000
     },
     "inputWidgets": {},
     "nuid": "5ffc89cb-957f-4b07-b86d-eebcb56fd817",
     "showTitle": true,
     "tableResultSettingsMap": {},
     "title": "Plotando distribuição do total de pedidos dentro de cada segmento"
    }
   },
   "outputs": [],
   "source": [
    "plot_kpi_boxplot_by_segment_and_group(\n",
    "    df=user_metrics_pdf,\n",
    "    segment_col=\"segment_ticket\",\n",
    "    group_col=\"is_target\",\n",
    "    kpi_col=\"total_spent_per_user\",\n",
    "    order=[\"Baixo ticket\", \"Ticket médio\", \"Alto ticket\"],\n",
    "    title=\"Distribuição do gasto total por grupo dentro de cada segmento\"\n",
    ")"
   ]
  },
  {
   "cell_type": "code",
   "execution_count": 0,
   "metadata": {
    "application/vnd.databricks.v1+cell": {
     "cellMetadata": {
      "byteLimit": 2048000,
      "rowLimit": 10000
     },
     "inputWidgets": {},
     "nuid": "1a587ae8-6d70-4f32-84da-9478ac51015d",
     "showTitle": true,
     "tableResultSettingsMap": {},
     "title": "Testando significância estatística dentro de cada segmento para o KPI total pedidos por usuário"
    }
   },
   "outputs": [],
   "source": [
    "df_test_result = test_kpi_significance_by_segment(\n",
    "    df=user_metrics_pdf,\n",
    "    segment_col=\"segment_ticket\",\n",
    "    group_col=\"is_target\",\n",
    "    kpi_col=\"orders_per_user\"\n",
    ")\n",
    "\n",
    "display(df_test_result)"
   ]
  },
  {
   "cell_type": "markdown",
   "metadata": {
    "application/vnd.databricks.v1+cell": {
     "cellMetadata": {},
     "inputWidgets": {},
     "nuid": "56416469-1dda-483f-9fc9-abfe9f48fe45",
     "showTitle": false,
     "tableResultSettingsMap": {},
     "title": ""
    }
   },
   "source": [
    "O cupom resultou em um número significativamente maior de pedidos por usuário em todos os segmentos de ticket médio.\n",
    "Isso reforça que o aumento do gasto total se deve principalmente ao aumento na frequência de pedidos, não no valor por pedido\n",
    "\n",
    "**Baixo ticket:**\n",
    "Maior crescimento de frequência de pedidos (+13,7%). Mostra que o cupom engajou até os usuários com perfil de gasto menor, que voltaram para fazer novos pedidos\n",
    "\n",
    "**Ticket médio:**\n",
    "Ganho de +12,7% comportamento muito próximo ao dos outros segmentos. Indica que o cupom teve poder universal, sem restrição ao perfil de gasto\n",
    "\n",
    "**Alto ticket:**\n",
    "Também aumento claro de +13,3%. Mesmo os usuários que já pedem de forma robusta foram estimulados a pedir mais vezes\n",
    "\n",
    "**Relação com resultado anterior (total_spent_per_user)**:\n",
    "O crescimento de gasto está fortemente ligado à maior frequência de pedidos. Isso confirma o comportamento esperado: o cupom incentivou recompra"
   ]
  },
  {
   "cell_type": "code",
   "execution_count": 0,
   "metadata": {
    "application/vnd.databricks.v1+cell": {
     "cellMetadata": {
      "byteLimit": 2048000,
      "rowLimit": 10000
     },
     "inputWidgets": {},
     "nuid": "079f9bab-15b6-408a-9e20-6ec6b274c68e",
     "showTitle": true,
     "tableResultSettingsMap": {},
     "title": "Plotando distribuição do total pedidos dentro de cada segmento"
    }
   },
   "outputs": [],
   "source": [
    "plot_kpi_boxplot_by_segment_and_group(\n",
    "    df=user_metrics_pdf,\n",
    "    segment_col=\"segment_ticket\",\n",
    "    group_col=\"is_target\",\n",
    "    kpi_col=\"orders_per_user\",\n",
    "    order=[\"Baixo ticket\", \"Ticket médio\", \"Alto ticket\"],\n",
    "    title=\"Distribuição dos pedidos por usuário por grupo dentro de cada segmento\"\n",
    ")"
   ]
  },
  {
   "cell_type": "code",
   "execution_count": 0,
   "metadata": {
    "application/vnd.databricks.v1+cell": {
     "cellMetadata": {
      "byteLimit": 2048000,
      "rowLimit": 10000
     },
     "inputWidgets": {},
     "nuid": "71a3452f-7876-44cb-ab21-d72a02c19381",
     "showTitle": true,
     "tableResultSettingsMap": {},
     "title": "Testando significância estatística dentro de cada segmento para o KPI de retenção do usuário"
    }
   },
   "outputs": [],
   "source": [
    "df_test_result = test_kpi_significance_by_segment(\n",
    "    df=user_metrics_pdf,\n",
    "    segment_col=\"segment_ticket\",\n",
    "    group_col=\"is_target\",\n",
    "    kpi_col=\"is_retained\"\n",
    ")\n",
    "\n",
    "display(df_test_result)"
   ]
  },
  {
   "cell_type": "markdown",
   "metadata": {
    "application/vnd.databricks.v1+cell": {
     "cellMetadata": {},
     "inputWidgets": {},
     "nuid": "befddc1e-bbc3-47eb-a767-b340d1bf150b",
     "showTitle": false,
     "tableResultSettingsMap": {},
     "title": ""
    }
   },
   "source": [
    "A campanha de cupom teve impacto claro e positivo na retenção dos usuários, em todas as faixas de ticket médio.\n",
    "O efeito é forte e consistente, com aumento da taxa de retenção entre 18% e 22,5% e o p-valor muito pequeno (< 0.00001) indica que a probabilidade de isso ser ao acaso é praticamente nula.\n",
    "\n",
    "**Baixo ticket:**\n",
    "A maior diferença percentual (+22,5% de retenção), ou seja, o cupom foi especialmente eficaz para trazer de volta usuários com menor poder de compra\n",
    "\n",
    "**Ticket médio:**\n",
    "Ligeiramente menor (+18,2% de retenção), mas ainda muito relevante, reforçando que usuários “intermediários” também responderam positivamente à campanha\n",
    "\n",
    "**Alto ticket:**\n",
    "Mostra que o cupom também fortalece o vínculo com clientes de alto valor (+21,8% de retenção)"
   ]
  },
  {
   "cell_type": "markdown",
   "metadata": {
    "application/vnd.databricks.v1+cell": {
     "cellMetadata": {
      "byteLimit": 2048000,
      "rowLimit": 10000
     },
     "inputWidgets": {},
     "nuid": "c8ffa289-4428-4ea4-8b19-0010352a7645",
     "showTitle": false,
     "tableResultSettingsMap": {},
     "title": ""
    }
   },
   "source": [
    "### Perfil restaurante"
   ]
  },
  {
   "cell_type": "code",
   "execution_count": 0,
   "metadata": {
    "application/vnd.databricks.v1+cell": {
     "cellMetadata": {
      "byteLimit": 2048000,
      "rowLimit": 10000
     },
     "inputWidgets": {},
     "nuid": "059f060b-a2e4-4ee4-9540-1a60cb675b3d",
     "showTitle": true,
     "tableResultSettingsMap": {},
     "title": "Comparando segmento perfil de restaurante entre grupos"
    }
   },
   "outputs": [],
   "source": [
    "plot_segment_comparison_by_group(\n",
    "    df=segments_pdf,\n",
    "    segment_col=\"segment_restaurant\",\n",
    "    title=\"Distribuição de perfil do restaurante por Grupo\",\n",
    "    order=[\"Baixo valor\", \"Valor intermediário\", \"Alto valor\"]\n",
    ")"
   ]
  },
  {
   "cell_type": "markdown",
   "metadata": {
    "application/vnd.databricks.v1+cell": {
     "cellMetadata": {},
     "inputWidgets": {},
     "nuid": "af228c25-827b-472a-b94d-74a7cd903f20",
     "showTitle": false,
     "tableResultSettingsMap": {},
     "title": ""
    }
   },
   "source": [
    "A distribuição dos perfis de restaurante entre os grupos target (que receberam cupom) e controle não é significativamente diferente.\n",
    "Os usuários dos dois grupos têm distribuição semelhante nos tipos de restaurante que costumam consumir. Isso indica que a randomização foi bem feita para essa variável.\n",
    "\n",
    "Como os grupos estão balanceados, qualquer diferença nos KPIs dentro dos perfis de restaurante pode ser atribuída com mais confiança à campanha de cupom, e não a viés de alocação."
   ]
  },
  {
   "cell_type": "code",
   "execution_count": 0,
   "metadata": {
    "application/vnd.databricks.v1+cell": {
     "cellMetadata": {
      "byteLimit": 2048000,
      "rowLimit": 10000
     },
     "inputWidgets": {},
     "nuid": "405d5e5d-d4f0-40f8-8a71-d67559eba10a",
     "showTitle": true,
     "tableResultSettingsMap": {},
     "title": "Testando significância estatística dentro de cada segmento para o KPI total gasto"
    }
   },
   "outputs": [],
   "source": [
    "df_test_result = test_kpi_significance_by_segment(\n",
    "    df=user_metrics_pdf,\n",
    "    segment_col=\"segment_restaurant\",\n",
    "    group_col=\"is_target\",\n",
    "    kpi_col=\"total_spent_per_user\"\n",
    ")\n",
    "\n",
    "display(df_test_result)"
   ]
  },
  {
   "cell_type": "markdown",
   "metadata": {
    "application/vnd.databricks.v1+cell": {
     "cellMetadata": {},
     "inputWidgets": {},
     "nuid": "eb372749-12e7-44ee-9d63-a260b13949b7",
     "showTitle": false,
     "tableResultSettingsMap": {},
     "title": ""
    }
   },
   "source": [
    "O cupom aumentou significativamente o total gasto por usuário em todos os perfis de restaurante — com impacto entre +13% e +14%, altamente significativo.\n",
    "\n",
    "**Baixo valor:**\n",
    "O cupom foi eficaz mesmo para usuários que costumam consumir de restaurantes mais baratos\n",
    "\n",
    "**Valor intermediário:**\n",
    "Reflete que esse público pode estar mais sensível ao benefício do cupom sem comprometer a margem\n",
    "\n",
    "**Alto valor:**\n",
    "Mostra que mesmo usuários com ticket mais elevado ampliaram seu consumo\n",
    "\n",
    "CONCLUSÃO: A campanha funcionou de forma consistente para todos os perfis de restaurante, ampliando o total gasto por usuário com impacto relevante e estatisticamente robusto."
   ]
  },
  {
   "cell_type": "code",
   "execution_count": 0,
   "metadata": {
    "application/vnd.databricks.v1+cell": {
     "cellMetadata": {
      "byteLimit": 2048000,
      "rowLimit": 10000
     },
     "inputWidgets": {},
     "nuid": "99969f6e-4a3e-430d-b8ab-4153dde39533",
     "showTitle": true,
     "tableResultSettingsMap": {},
     "title": "Plotando distribuição do total gasto dentro de cada segmento"
    }
   },
   "outputs": [],
   "source": [
    "plot_kpi_boxplot_by_segment_and_group(\n",
    "    df=user_metrics_pdf,\n",
    "    segment_col=\"segment_restaurant\",\n",
    "    group_col=\"is_target\",\n",
    "    kpi_col=\"total_spent_per_user\",\n",
    "    order=[\"Baixo valor\", \"Valor intermediário\", \"Alto valor\"],\n",
    "    title=\"Distribuição do gasto total por grupo dentro de cada segmento\"\n",
    ")"
   ]
  },
  {
   "cell_type": "code",
   "execution_count": 0,
   "metadata": {
    "application/vnd.databricks.v1+cell": {
     "cellMetadata": {
      "byteLimit": 2048000,
      "rowLimit": 10000
     },
     "inputWidgets": {},
     "nuid": "ce0c4c14-6084-4850-814b-5426bb71e885",
     "showTitle": true,
     "tableResultSettingsMap": {},
     "title": "Testando significância estatística dentro de cada segmento para o KPI total pedidos por usuário"
    }
   },
   "outputs": [],
   "source": [
    "df_test_result = test_kpi_significance_by_segment(\n",
    "    df=user_metrics_pdf,\n",
    "    segment_col=\"segment_restaurant\",\n",
    "    group_col=\"is_target\",\n",
    "    kpi_col=\"orders_per_user\"\n",
    ")\n",
    "\n",
    "display(df_test_result)"
   ]
  },
  {
   "cell_type": "markdown",
   "metadata": {
    "application/vnd.databricks.v1+cell": {
     "cellMetadata": {},
     "inputWidgets": {},
     "nuid": "10dbef50-4d65-4f89-8fa1-207fdbf155f4",
     "showTitle": false,
     "tableResultSettingsMap": {},
     "title": ""
    }
   },
   "source": [
    "O cupom levou os usuários a fazerem mais pedidos independentemente do perfil de restaurante em que costumam consumir. A diferença foi uniforme, com crescimento de ~13% em todos os segmentos.\n",
    "\n",
    "Isso reforça que o aumento no total gasto vem principalmente da maior frequência de compra, e não de aumento no ticket médio.\n",
    "\n",
    "**Baixo valor:**\n",
    "Público sensível a preço, mas o cupom foi um forte incentivo à recompra\n",
    "\n",
    "**Valor intermediário:**\n",
    "Mostra um comportamento equilibrado e previsível. Pode ser um dos segmentos com maior elasticidade ao incentivo\n",
    "\n",
    "**Alto valor:**\n",
    "O cupom é eficaz mesmo para quem já tem alta propensão de consumo\n",
    "\n",
    "**Coerência com total_spent_per_user:**\n",
    "O aumento em pedidos por usuário se reflete diretamente no maior gasto total\n",
    "\n",
    "Isso confirma a coerência interna dos KPIs\n",
    "\n",
    "**Conclusão**:\n",
    "A campanha aumentou a frequência de pedidos em todos os perfis de restaurante, mantendo consistência de impacto com robustez estatística."
   ]
  },
  {
   "cell_type": "code",
   "execution_count": 0,
   "metadata": {
    "application/vnd.databricks.v1+cell": {
     "cellMetadata": {
      "byteLimit": 2048000,
      "rowLimit": 10000
     },
     "inputWidgets": {},
     "nuid": "536257bd-abba-4507-8585-6f0fa94d377a",
     "showTitle": true,
     "tableResultSettingsMap": {},
     "title": "Plotando distribuição do total pedidos dentro de cada segmento"
    }
   },
   "outputs": [],
   "source": [
    "plot_kpi_boxplot_by_segment_and_group(\n",
    "    df=user_metrics_pdf,\n",
    "    segment_col=\"segment_restaurant\",\n",
    "    group_col=\"is_target\",\n",
    "    kpi_col=\"orders_per_user\",\n",
    "    order=[\"Baixo valor\", \"Valor intermediário\", \"Alto valor\"],\n",
    "    title=\"Distribuição dos pedidos por usuário por grupo dentro de cada segmento\"\n",
    ")"
   ]
  },
  {
   "cell_type": "code",
   "execution_count": 0,
   "metadata": {
    "application/vnd.databricks.v1+cell": {
     "cellMetadata": {
      "byteLimit": 2048000,
      "rowLimit": 10000
     },
     "inputWidgets": {},
     "nuid": "3aafe648-b1a0-4678-8a48-b591e8c1bd56",
     "showTitle": true,
     "tableResultSettingsMap": {},
     "title": "Testando significância estatística dentro de cada segmento para o KPI de retenção do usuário"
    }
   },
   "outputs": [],
   "source": [
    "df_test_result = test_kpi_significance_by_segment(\n",
    "    df=user_metrics_pdf,\n",
    "    segment_col=\"segment_restaurant\",\n",
    "    group_col=\"is_target\",\n",
    "    kpi_col=\"is_retained\"\n",
    ")\n",
    "\n",
    "display(df_test_result)"
   ]
  },
  {
   "cell_type": "markdown",
   "metadata": {
    "application/vnd.databricks.v1+cell": {
     "cellMetadata": {},
     "inputWidgets": {},
     "nuid": "7c646ff3-eec3-4f52-b5af-f322811a60d8",
     "showTitle": false,
     "tableResultSettingsMap": {},
     "title": ""
    }
   },
   "source": [
    "A campanha de cupom teve um impacto positivo altamente significativo na retenção dos usuários, independentemente do perfil de restaurante.\n",
    "O aumento na proporção de usuários retidos foi de ~21% em todos os segmentos\n",
    "\n",
    "O p-valor praticamente nulo indica que a chance desse efeito ser aleatório é desprezível.\n",
    "\n",
    "**Baixo valor**\n",
    "Mostra que o cupom é muito eficaz para reter consumidores mais sensíveis ao preço\n",
    "\n",
    "**Valor intermediário**\n",
    "Reforça que esse público responde bem a incentivos e pode manter comportamento de longo prazo\n",
    "\n",
    "**Alto valor**\n",
    "Usuários com alto valor de pedido foram mais fidelizados, o que aumenta o LTV (Lifetime Value)\n",
    "\n",
    "**Coerência com demais KPIs:**\n",
    "Esses resultados estão completamente alinhados com os de:\n",
    "\n",
    "`total_spent_per_user` e `orders_per_user`\n",
    "\n",
    "Ou seja, a campanha não apenas aumentou o consumo, mas também estimulou comportamentos de longo prazo\n",
    "\n",
    "CONCLUSÃO:\n",
    "A campanha de cupom teve impacto positivo, consistente e significativo em todos KPIs\n",
    "E isso ocorreu de forma homogênea em todos os perfis de restaurante (baixo valor, intermediário e alto valor)."
   ]
  },
  {
   "cell_type": "markdown",
   "metadata": {
    "application/vnd.databricks.v1+cell": {
     "cellMetadata": {
      "byteLimit": 2048000,
      "rowLimit": 10000
     },
     "inputWidgets": {},
     "nuid": "790208ea-debe-4f2e-b15a-46f24b6c6aa3",
     "showTitle": false,
     "tableResultSettingsMap": {},
     "title": ""
    }
   },
   "source": [
    "### Localidade"
   ]
  },
  {
   "cell_type": "code",
   "execution_count": 0,
   "metadata": {
    "application/vnd.databricks.v1+cell": {
     "cellMetadata": {
      "byteLimit": 2048000,
      "rowLimit": 10000
     },
     "inputWidgets": {},
     "nuid": "aa0ed45c-abbf-4737-9273-662fd6ea0c6b",
     "showTitle": true,
     "tableResultSettingsMap": {},
     "title": "Definindo função para criar tabela para segmento de localidade"
    }
   },
   "outputs": [],
   "source": [
    "def build_state_analysis_table(df, state_col=\"segment_state\"):\n",
    "    states = df[state_col].dropna().unique()\n",
    "    result_rows = []\n",
    "\n",
    "    for state in sorted(states):\n",
    "        subset = df[df[state_col] == state]\n",
    "\n",
    "        # Gasto total\n",
    "        tgt_spent = subset[subset[\"is_target\"] == True][\"total_spent_per_user\"].dropna()\n",
    "        ctl_spent = subset[subset[\"is_target\"] == False][\"total_spent_per_user\"].dropna()\n",
    "        mean_tgt_spent = tgt_spent.mean()\n",
    "        mean_ctl_spent = ctl_spent.mean()\n",
    "        p_spent = None\n",
    "        spent_diff_pct = None\n",
    "        if len(tgt_spent) >= 5 and len(ctl_spent) >= 5:\n",
    "            stat_spent, p_spent = ttest_ind(tgt_spent, ctl_spent, equal_var=False)\n",
    "            if mean_ctl_spent != 0:\n",
    "                spent_diff_pct = 100 * (mean_tgt_spent - mean_ctl_spent) / mean_ctl_spent\n",
    "\n",
    "        # Pedidos por usuário\n",
    "        tgt_orders = subset[subset[\"is_target\"] == True][\"orders_per_user\"].dropna()\n",
    "        ctl_orders = subset[subset[\"is_target\"] == False][\"orders_per_user\"].dropna()\n",
    "        mean_tgt_orders = tgt_orders.mean()\n",
    "        mean_ctl_orders = ctl_orders.mean()\n",
    "        p_orders = None\n",
    "        orders_diff_pct = None\n",
    "        if len(tgt_orders) >= 5 and len(ctl_orders) >= 5:\n",
    "            stat_orders, p_orders = ttest_ind(tgt_orders, ctl_orders, equal_var=False)\n",
    "            if mean_ctl_orders != 0:\n",
    "                orders_diff_pct = 100 * (mean_tgt_orders - mean_ctl_orders) / mean_ctl_orders\n",
    "\n",
    "        # Retenção\n",
    "        tgt_ret = subset[subset[\"is_target\"] == True][\"is_retained\"].dropna()\n",
    "        ctl_ret = subset[subset[\"is_target\"] == False][\"is_retained\"].dropna()\n",
    "        p_ret = None\n",
    "        ret_diff_pct = None\n",
    "        rate_tgt = tgt_ret.mean() if len(tgt_ret) > 0 else None\n",
    "        rate_ctl = ctl_ret.mean() if len(ctl_ret) > 0 else None\n",
    "        if len(tgt_ret) >= 30 and len(ctl_ret) >= 30:\n",
    "            count = [tgt_ret.sum(), ctl_ret.sum()]\n",
    "            nobs = [len(tgt_ret), len(ctl_ret)]\n",
    "            stat_ret, p_ret = proportions_ztest(count, nobs)\n",
    "            if rate_ctl != 0:\n",
    "                ret_diff_pct = 100 * (rate_tgt - rate_ctl) / rate_ctl\n",
    "\n",
    "        # Interpretações\n",
    "        def interpret(p, pct, tipo):\n",
    "            if p is None:\n",
    "                return f\"Dados insuficientes para {tipo}\"\n",
    "            if p < 0.05:\n",
    "                if pct > 0:\n",
    "                    return f\"A campanha aumentou o {tipo.lower()} significativamente.\"\n",
    "                else:\n",
    "                    return f\"O {tipo.lower()} caiu no grupo com cupom — possível efeito negativo.\"\n",
    "            else:\n",
    "                return f\"Sem impacto significativo no {tipo.lower()}.\"\n",
    "\n",
    "        def recommend(p_gasto, pct_gasto, p_retencao, pct_retencao, p_orders, pct_orders):\n",
    "            if (\n",
    "                (p_gasto is not None and p_gasto < 0.05 and pct_gasto > 5) or\n",
    "                (p_retencao is not None and p_retencao < 0.05 and pct_retencao > 5) or\n",
    "                (p_orders is not None and p_orders < 0.05 and pct_orders > 5)\n",
    "            ):\n",
    "                return \"Ampliar a ação nesse estado.\"\n",
    "            elif (p_gasto is not None and p_gasto >= 0.05) and \\\n",
    "                 (p_retencao is not None and p_retencao >= 0.05) and \\\n",
    "                 (p_orders is not None and p_orders >= 0.05):\n",
    "                return \"Testar alternativas (cupom menos atrativo, frete, etc).\"\n",
    "            else:\n",
    "                return \"Manter com ajustes ou reavaliar.\"\n",
    "\n",
    "        result_rows.append({\n",
    "            \"Estado\": state,\n",
    "            \"Δ Gasto (%)\": f\"{spent_diff_pct:+.1f}%\" if spent_diff_pct is not None else \"N/A\",\n",
    "            \"p-valor Gasto\": f\"{p_spent:.5f}\" if p_spent is not None else \"N/A\",\n",
    "            \"Significativo Gasto\": \"✅\" if p_spent is not None and p_spent < 0.05 else \"❌\",\n",
    "            \"Δ Pedidos (%)\": f\"{orders_diff_pct:+.1f}%\" if orders_diff_pct is not None else \"N/A\",\n",
    "            \"p-valor Pedidos\": f\"{p_orders:.5f}\" if p_orders is not None else \"N/A\",\n",
    "            \"Significativo Pedidos\": \"✅\" if p_orders is not None and p_orders < 0.05 else \"❌\",\n",
    "            \"Δ Retenção (%)\": f\"{ret_diff_pct:+.1f}%\" if ret_diff_pct is not None else \"N/A\",\n",
    "            \"p-valor Retenção\": f\"{p_ret:.5f}\" if p_ret is not None else \"N/A\",\n",
    "            \"Significativo Retenção\": \"✅\" if p_ret is not None and p_ret < 0.05 else \"❌\",\n",
    "            \"Interpretação Gasto\": interpret(p_spent, spent_diff_pct, \"Gasto\"),\n",
    "            \"Interpretação Pedidos\": interpret(p_orders, orders_diff_pct, \"Pedidos\"),\n",
    "            \"Interpretação Retenção\": interpret(p_ret, ret_diff_pct, \"Retenção\"),\n",
    "            \"Recomendação Final\": recommend(p_spent, spent_diff_pct, p_ret, ret_diff_pct, p_orders, orders_diff_pct)\n",
    "        })\n",
    "\n",
    "    return pd.DataFrame(result_rows)"
   ]
  },
  {
   "cell_type": "code",
   "execution_count": 0,
   "metadata": {
    "application/vnd.databricks.v1+cell": {
     "cellMetadata": {
      "byteLimit": 2048000,
      "rowLimit": 10000
     },
     "inputWidgets": {},
     "nuid": "1ba816e7-6949-4a65-8dd7-10e22cea852f",
     "showTitle": true,
     "tableResultSettingsMap": {},
     "title": "Analisando por KPIs"
    }
   },
   "outputs": [],
   "source": [
    "segment_state_table = build_state_analysis_table(user_metrics_pdf)\n",
    "\n",
    "pd.set_option(\"display.max_colwidth\", None)\n",
    "display(segment_state_table)"
   ]
  },
  {
   "cell_type": "markdown",
   "metadata": {
    "application/vnd.databricks.v1+cell": {
     "cellMetadata": {},
     "inputWidgets": {},
     "nuid": "b8be996b-c0e1-420b-a694-368660131d89",
     "showTitle": false,
     "tableResultSettingsMap": {},
     "title": ""
    }
   },
   "source": [
    "### Análise por Segmentação\n",
    "A análise por segmentações permitiu avaliar a efetividade da campanha de cupom em diferentes perfis de usuários e contextos de consumo. Foram exploradas segmentações com base na frequência de pedidos, no ticket médio e no perfil de restaurante consumido, permitindo identificar como o impacto da campanha varia (ou não) entre os grupos.\n",
    "\n",
    "#### 1. Segmentação por frequência de pedidos (segment_frequency)\n",
    "Os usuários foram agrupados em baixa, média e alta frequência de pedidos.\n",
    "\n",
    "Entretanto, por construção, os grupos apresentaram pouca ou nenhuma variabilidade nos KPIs relacionados à frequência e retenção, tornando as análises estatísticas inconclusivas ou inválidas.\n",
    "\n",
    "A segmentação revelou que o cupom não teve impacto em aumentar a frequência de pedidos entre os usuários de baixa frequência, o que indica que a campanha pode não ter sido suficiente para gerar recorrência nos menos engajados.\n",
    "\n",
    "Como esperado, usuários de alta frequência já eram retidos, o que torna o impacto incremental mais difícil de observar nesse grupo.\n",
    "\n",
    "##### ✅ Insight \n",
    "O cupom não alterou a frequência de quem menos pedia — talvez seja necessário um incentivo mais agressivo ou de outro tipo para esse público.\n",
    "\n",
    "#### 2. Segmentação por ticket médio (segment_ticket)\n",
    "Os usuários foram classificados em faixas de baixo, médio e alto ticket.\n",
    "\n",
    "Os resultados foram consistentes e altamente positivos em todas as faixas\n",
    "\n",
    "O cupom funcionou em todos os níveis de gasto, desde os consumidores mais econômicos até os de maior poder aquisitivo.\n",
    "\n",
    "A retenção foi especialmente impactada, com ganhos acima de 18% em todos os segmentos, mostrando que o benefício gerou engajamento duradouro.\n",
    "\n",
    "##### ✅ Insight \n",
    "A campanha foi eficaz em todos os perfis de consumo por valor, com impacto relevante no hábito de compra e fidelização.\n",
    "\n",
    "#### 3. Segmentação por perfil de restaurante (segment_restaurant)\n",
    "A distribuição dos grupos (target vs. controle) foi estatisticamente equilibrada (p = 0.106), o que confere credibilidade à análise dos efeitos por segmento.\n",
    "\n",
    "Mais uma vez, o impacto do cupom foi forte e uniforme.\n",
    "\n",
    "O cupom foi altamente eficaz independentemente do tipo de restaurante consumido — funcionando tanto para quem consome restaurantes mais populares quanto para quem consome restaurantes de ticket mais elevado.\n",
    "\n",
    "##### ✅ Insight \n",
    "O comportamento do consumidor frente ao cupom não depende do perfil do restaurante, o que aumenta o potencial de escalabilidade da campanha.\n",
    "\n",
    "\n",
    "\n",
    "\n",
    "#### Conclusão Geral\n",
    "A análise segmentada reforça que a campanha de cupom foi amplamente eficaz, com impactos positivos e estatisticamente significativos nos principais KPIs (gasto, frequência e retenção) em todos os segmentos de valor e perfil de consumo.\n",
    "\n",
    "A campanha gerou aumento consistente de ~13% em pedidos e gasto total por usuário e um aumento expressivo de ~21% na retenção, mesmo após o uso do cupom.\n",
    "\n",
    "Esses efeitos foram transversais a diferentes tipos de usuário, evidenciando que a ação tem alto potencial de impacto em larga escala.\n",
    "\n",
    "A única limitação observada foi entre usuários de baixa frequência, onde não houve estímulo à recorrência"
   ]
  }
 ],
 "metadata": {
  "application/vnd.databricks.v1+notebook": {
   "computePreferences": null,
   "dashboards": [],
   "environmentMetadata": {
    "base_environment": "",
    "environment_version": "2"
   },
   "inputWidgetPreferences": null,
   "language": "python",
   "notebookMetadata": {
    "pythonIndentUnit": 4
   },
   "notebookName": "04_customer_segmentation",
   "widgets": {}
  },
  "language_info": {
   "name": "python"
  }
 },
 "nbformat": 4,
 "nbformat_minor": 0
}
