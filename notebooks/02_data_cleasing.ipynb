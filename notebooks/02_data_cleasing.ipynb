{
 "cells": [
  {
   "cell_type": "code",
   "execution_count": 0,
   "metadata": {
    "application/vnd.databricks.v1+cell": {
     "cellMetadata": {
      "byteLimit": 2048000,
      "rowLimit": 10000
     },
     "inputWidgets": {},
     "nuid": "52508f8a-cdb1-40af-87a1-cb5342d748cd",
     "showTitle": true,
     "tableResultSettingsMap": {},
     "title": "Evitar re-execuções de DAG"
    }
   },
   "outputs": [],
   "source": [
    "# spark.conf.set(\"spark.databricks.io.cache.enabled\", \"true\")"
   ]
  },
  {
   "cell_type": "code",
   "execution_count": 0,
   "metadata": {
    "application/vnd.databricks.v1+cell": {
     "cellMetadata": {
      "byteLimit": 2048000,
      "rowLimit": 10000
     },
     "inputWidgets": {},
     "nuid": "0642caf1-4841-4297-998a-68ac7b1770f4",
     "showTitle": true,
     "tableResultSettingsMap": {},
     "title": "Imports"
    }
   },
   "outputs": [],
   "source": [
    "import pyspark.sql.functions as f\n",
    "from pyspark.sql.types import DoubleType, FloatType, LongType, IntegerType\n",
    "from pyspark.sql.dataframe import DataFrame\n",
    "from pyspark.sql.window import Window\n",
    "\n",
    "from constants import (\n",
    "    BRONZE_LAYER_PATH,\n",
    "    SILVER_LAYER_PATH,\n",
    "    ORDER_SILVER_COLUMN_COMMENTS,\n",
    "    CONSUMER_SILVER_COLUMN_COMMENTS,\n",
    "    RESTAURANT_SILVER_COLUMN_COMMENTS,\n",
    "    AB_TEST_REF_SILVER_COLUMN_COMMENTS,\n",
    "    ABT_SILVER_COLUMN_COMMENTS\n",
    ")\n",
    "import utils as u\n",
    "from schemas import CURRENCY_VALUE_SCHEMA, ITEM_SCHEMA"
   ]
  },
  {
   "cell_type": "code",
   "execution_count": 0,
   "metadata": {
    "application/vnd.databricks.v1+cell": {
     "cellMetadata": {
      "byteLimit": 2048000,
      "rowLimit": 10000
     },
     "inputWidgets": {},
     "nuid": "689747c0-a368-4d6b-bbbe-a5c190fc33ba",
     "showTitle": true,
     "tableResultSettingsMap": {},
     "title": "Funções úteis"
    }
   },
   "outputs": [],
   "source": [
    "def add_column_comments(table_name, comments_dict):\n",
    "    for col_name, comment_text in comments_dict.items():\n",
    "        safe_comment = comment_text.replace('\"', '\\\\\"')\n",
    "        \n",
    "        sql_command = f\"\"\"\n",
    "        ALTER TABLE {table_name} ALTER COLUMN {col_name} COMMENT \"{safe_comment}\"\n",
    "        \"\"\"\n",
    "        spark.sql(sql_command)\n",
    "\n",
    "def _data_info(df: DataFrame):\n",
    "    numeric_cols = [f.name for f in df.schema\n",
    "                    if isinstance(f.dataType, (DoubleType, LongType, IntegerType, FloatType))]\n",
    "\n",
    "    # total registros\n",
    "    print(f\"Total de registros: {df.count()}\")\n",
    "\n",
    "    # valores nulos\n",
    "    print(\"\\nValores nulos por coluna:\")\n",
    "    display(df.select([f.count(f.when(f.col(c).isNull(), c)).alias(c) for c in df.columns]))\n",
    "    \n",
    "    # dados duplicados\n",
    "    print(\"\\nNúmero de registros duplicados:\")\n",
    "    display(df.groupBy(df.columns).count().filter(f.col(\"count\") > 1).count())\n",
    "\n",
    "def _iqr(df: DataFrame, columns: list) -> DataFrame:\n",
    "    results = []\n",
    "    for column in columns:\n",
    "        q1 = df.approxQuantile(column, [0.25], 0.01)[0]\n",
    "        q3 = df.approxQuantile(column, [0.75], 0.01)[0]\n",
    "        p95 = df.approxQuantile(column, [0.95], 0.01)[0]\n",
    "        p99 = df.approxQuantile(column, [0.99], 0.01)[0]\n",
    "        iqr = q3 - q1\n",
    "        lower_bound = q1 - 1.5 * iqr\n",
    "        upper_bound = q3 + 1.5 * iqr\n",
    "        results.append((column, q1, q3, iqr, p95, p99, lower_bound, upper_bound))\n",
    "    \n",
    "    schema = [\"Column\", \"Q1\", \"Q3\", \"IQR\", \"P95\", \"P99\", \"Lower_Bound\", \"Upper_Bound\"]\n",
    "    return spark.createDataFrame(results, schema)"
   ]
  },
  {
   "cell_type": "code",
   "execution_count": 0,
   "metadata": {
    "application/vnd.databricks.v1+cell": {
     "cellMetadata": {
      "byteLimit": 2048000,
      "rowLimit": 10000
     },
     "inputWidgets": {},
     "nuid": "a82a48e2-1e9f-4e95-97e7-eec99209ff10",
     "showTitle": true,
     "tableResultSettingsMap": {},
     "title": "Criação dos DataFrames"
    }
   },
   "outputs": [],
   "source": [
    "orders_df = spark.table(f\"{BRONZE_LAYER_PATH}.order\")\n",
    "consumers_df = spark.table(f\"{BRONZE_LAYER_PATH}.consumer\")\n",
    "restaurants_df = spark.table(f\"{BRONZE_LAYER_PATH}.restaurant\")\n",
    "ab_test_df = spark.table(f\"{BRONZE_LAYER_PATH}.ab_test_ref\")"
   ]
  },
  {
   "cell_type": "markdown",
   "metadata": {
    "application/vnd.databricks.v1+cell": {
     "cellMetadata": {},
     "inputWidgets": {},
     "nuid": "1d4f25e5-c18f-4d2a-adbd-2b6914ffcbb9",
     "showTitle": false,
     "tableResultSettingsMap": {},
     "title": ""
    }
   },
   "source": [
    "### Orders\n"
   ]
  },
  {
   "cell_type": "code",
   "execution_count": 0,
   "metadata": {
    "application/vnd.databricks.v1+cell": {
     "cellMetadata": {
      "byteLimit": 2048000,
      "rowLimit": 10000
     },
     "inputWidgets": {},
     "nuid": "2de72cf9-df04-4630-8658-155cae2e8c17",
     "showTitle": true,
     "tableResultSettingsMap": {},
     "title": "Avliando order_id repetidos"
    }
   },
   "outputs": [],
   "source": [
    "order_id_duplicated_df = orders_df.groupBy(f.col(\"order_id\")).count().filter(\"count > 1\")\n",
    "print(f\"Total de order_id duplicados: {order_id_duplicated_df.count()}\")\n",
    "\n",
    "display(order_id_duplicated_df.select(\"order_id\").limit(10))"
   ]
  },
  {
   "cell_type": "code",
   "execution_count": 0,
   "metadata": {
    "application/vnd.databricks.v1+cell": {
     "cellMetadata": {
      "byteLimit": 2048000,
      "rowLimit": 10000
     },
     "inputWidgets": {},
     "nuid": "cb11c04f-5d59-4da8-96f0-ca5aaf4d8175",
     "showTitle": true,
     "tableResultSettingsMap": {},
     "title": "Avaliando dados com order_id repetidos"
    }
   },
   "outputs": [],
   "source": [
    "order_ids_to_check = [\n",
    "    row[\"order_id\"]\n",
    "    for row in order_id_duplicated_df.select(\"order_id\").limit(5).collect()\n",
    "]\n",
    "\n",
    "display(orders_df.filter(f.col(\"order_id\").isin(order_ids_to_check)).orderBy(\"order_id\"))"
   ]
  },
  {
   "cell_type": "markdown",
   "metadata": {
    "application/vnd.databricks.v1+cell": {
     "cellMetadata": {},
     "inputWidgets": {},
     "nuid": "0205718d-86fd-4613-b1b9-86c79a7947f6",
     "showTitle": false,
     "tableResultSettingsMap": {},
     "title": ""
    }
   },
   "source": [
    "Percebemos uma clara inconsistência no sistema: Mesmos pedidos, com cpf diferentes! Isso parece ser um erro na integridade dos dados.\n",
    "Poderíamos excluir todos registros com `order_id` iguais, mas vamos manter apenas os que seguirem uma lista de criterios para de-duplicar e deixar apenas `order_id` distintos na tabela. Vamos manter:\n",
    "1. O mais completo\n",
    "2. Caso os dois estiverem completos, o com maior valor\n",
    "3. Caso os dois critérios anteriores sejam iguais entre os registros, trazer apenas o mais recente\n",
    "\n"
   ]
  },
  {
   "cell_type": "code",
   "execution_count": 0,
   "metadata": {
    "application/vnd.databricks.v1+cell": {
     "cellMetadata": {
      "byteLimit": 2048000,
      "rowLimit": 10000
     },
     "inputWidgets": {},
     "nuid": "0329780f-a50c-46e8-8f76-8b9391a90bfc",
     "showTitle": false,
     "tableResultSettingsMap": {},
     "title": ""
    }
   },
   "outputs": [],
   "source": [
    "orders_df = orders_df.withColumn(\n",
    "    \"is_complete\",\n",
    "    f.when(f.col(\"items\").isNotNull() & (f.col(\"items\") != \"[]\"), 1).otherwise(0)\n",
    ")\n",
    "\n",
    "print(f\"Registros antes da deduplicação: {orders_df.count()}\")\n",
    "\n",
    "# criterios para de-duplicar registros com order_id igual\n",
    "window_spec = Window.partitionBy(\"order_id\").orderBy(\n",
    "    f.col(\"is_complete\").desc(),\n",
    "    f.col(\"order_total_amount\").desc(),  \n",
    "    f.col(\"order_created_at\").desc()\n",
    ")\n",
    "\n",
    "orders_df = orders_df.withColumn(\"row_number\", f.row_number().over(window_spec))\n",
    "orders_df = orders_df.filter(f.col(\"row_number\") == 1).drop(\"row_number\", \"is_complete\")\n",
    "\n",
    "print(f\"Registros após de-duplicação: {orders_df.count()}\")"
   ]
  },
  {
   "cell_type": "markdown",
   "metadata": {
    "application/vnd.databricks.v1+cell": {
     "cellMetadata": {},
     "inputWidgets": {},
     "nuid": "41429ddf-7ddc-4183-ae25-d2f79e7f5802",
     "showTitle": false,
     "tableResultSettingsMap": {},
     "title": ""
    }
   },
   "source": [
    "Diminuição considerável do total de registros"
   ]
  },
  {
   "cell_type": "code",
   "execution_count": 0,
   "metadata": {
    "application/vnd.databricks.v1+cell": {
     "cellMetadata": {
      "byteLimit": 2048000,
      "rowLimit": 10000
     },
     "inputWidgets": {},
     "nuid": "42ca07c3-f4c1-4f25-9fd1-f87cdf163534",
     "showTitle": false,
     "tableResultSettingsMap": {},
     "title": ""
    }
   },
   "outputs": [],
   "source": [
    "month_df = orders_df.withColumn(\n",
    "    \"year_month\",\n",
    "    f.date_format(f.col(\"order_created_at\"), \"yyyy-MM\")\n",
    ")\n",
    "\n",
    "order_by_month_df = (\n",
    "    month_df\n",
    "    .groupBy(f.col(\"year_month\"))\n",
    "    .count()\n",
    "    .orderBy(f.col(\"year_month\"))\n",
    ")\n",
    "\n",
    "print(\"Total de pedidos por mês\")\n",
    "display(order_by_month_df)"
   ]
  },
  {
   "cell_type": "markdown",
   "metadata": {
    "application/vnd.databricks.v1+cell": {
     "cellMetadata": {},
     "inputWidgets": {},
     "nuid": "2b80e4b8-42fb-42b3-b8cf-e4d03d9242ea",
     "showTitle": false,
     "tableResultSettingsMap": {},
     "title": ""
    }
   },
   "source": [
    "Após a de-duplicação só ficaram pedidos para jan/19"
   ]
  },
  {
   "cell_type": "code",
   "execution_count": 0,
   "metadata": {
    "application/vnd.databricks.v1+cell": {
     "cellMetadata": {
      "byteLimit": 2048000,
      "rowLimit": 10000
     },
     "inputWidgets": {},
     "nuid": "7f0f3f66-7690-4a07-a0d2-6a90321229fd",
     "showTitle": true,
     "tableResultSettingsMap": {},
     "title": "Parseando coluna item"
    }
   },
   "outputs": [],
   "source": [
    "orders_df = u.json_column_parse(orders_df, \"items\", ITEM_SCHEMA)\n",
    "orders_df.printSchema()"
   ]
  },
  {
   "cell_type": "code",
   "execution_count": 0,
   "metadata": {
    "application/vnd.databricks.v1+cell": {
     "cellMetadata": {
      "byteLimit": 2048000,
      "rowLimit": 10000
     },
     "inputWidgets": {},
     "nuid": "2d330ae1-aa32-41af-88bb-cbbea80afc36",
     "showTitle": true,
     "tableResultSettingsMap": {},
     "title": "Nulos em items_parsed após from_json"
    }
   },
   "outputs": [],
   "source": [
    "orders_df.filter(f.col(\"items_parsed\").isNull()).count()"
   ]
  },
  {
   "cell_type": "code",
   "execution_count": 0,
   "metadata": {
    "application/vnd.databricks.v1+cell": {
     "cellMetadata": {
      "byteLimit": 2048000,
      "rowLimit": 10000
     },
     "inputWidgets": {},
     "nuid": "53dbd276-08ea-4f14-8776-23de12b271de",
     "showTitle": true,
     "tableResultSettingsMap": {},
     "title": "Avaliando resultados com items_parsed nulos"
    }
   },
   "outputs": [],
   "source": [
    "item_parsed_null_df = orders_df.filter(\n",
    "    f.col(\"items_parsed\").isNull() &\n",
    "    (f.col(\"items\").isNotNull()) &\n",
    "    (f.col(\"items\") != \"[]\")\n",
    ")\n",
    "\n",
    "print(\"Amostra de registros onde o parse falhou (items_parsed é nulo):\")\n",
    "display(item_parsed_null_df.select(\"order_id\", \"items\"))"
   ]
  },
  {
   "cell_type": "code",
   "execution_count": 0,
   "metadata": {
    "application/vnd.databricks.v1+cell": {
     "cellMetadata": {
      "byteLimit": 2048000,
      "rowLimit": 10000
     },
     "inputWidgets": {},
     "nuid": "4afd4688-28b4-46b5-ba22-b8f3a233f335",
     "showTitle": true,
     "tableResultSettingsMap": {},
     "title": "Criando novas colunas com o que parece ter importancia de items"
    }
   },
   "outputs": [],
   "source": [
    "initial_value_double = f.lit(0).cast(DoubleType())\n",
    "\n",
    "orders_df = (\n",
    "    orders_df.withColumn(\n",
    "        \"total_items_quantity\",\n",
    "        f.aggregate(\n",
    "            \"items_parsed\",\n",
    "            initial_value_double,\n",
    "            lambda acc, item: acc\n",
    "            + f.coalesce(item[\"quantity\"].cast(DoubleType()), initial_value_double),\n",
    "        ),\n",
    "    )\n",
    "    .withColumn(\n",
    "        \"total_items_value\",\n",
    "        f.aggregate(\n",
    "            \"items_parsed\",\n",
    "            initial_value_double,\n",
    "            lambda acc, item: acc\n",
    "            + f.coalesce(\n",
    "                f.round(item[\"totalValue\"][\"value\"].cast(DoubleType()) / 100, 2),\n",
    "                initial_value_double,\n",
    "            )\n",
    "            + f.aggregate(\n",
    "                item[\"garnishItems\"],\n",
    "                initial_value_double,\n",
    "                lambda garnish_acc, garnish_item: garnish_acc\n",
    "                + f.coalesce(\n",
    "                    (garnish_item[\"totalValue\"][\"value\"].cast(DoubleType()) / 100),\n",
    "                    initial_value_double,\n",
    "                ),\n",
    "            ),\n",
    "        ),\n",
    "    )\n",
    "    .withColumn(\n",
    "        \"total_items_addition\",\n",
    "        f.aggregate(\n",
    "            \"items_parsed\",\n",
    "            initial_value_double,\n",
    "            lambda acc, item: acc\n",
    "            + f.coalesce(\n",
    "                f.round(item[\"totalAddition\"][\"value\"].cast(DoubleType()) / 100, 2),\n",
    "                initial_value_double,\n",
    "            ),\n",
    "        ),\n",
    "    )\n",
    "    .withColumn(\n",
    "        \"total_items_discount\",\n",
    "        f.aggregate(\n",
    "            \"items_parsed\",\n",
    "            initial_value_double,\n",
    "            lambda acc, item: acc\n",
    "            + f.coalesce(\n",
    "                f.round(item[\"totalDiscount\"][\"value\"].cast(DoubleType()) / 100, 2),\n",
    "                initial_value_double,\n",
    "            ),\n",
    "        ),\n",
    "    )\n",
    "    .withColumn(\"num_distinct_items\", f.size(f.col(\"items_parsed\")))\n",
    ")\n",
    "\n",
    "orders_df.printSchema()"
   ]
  },
  {
   "cell_type": "code",
   "execution_count": 0,
   "metadata": {
    "application/vnd.databricks.v1+cell": {
     "cellMetadata": {
      "byteLimit": 2048000,
      "rowLimit": 10000
     },
     "inputWidgets": {},
     "nuid": "b0a7b12e-d22e-4751-a9ab-aea6ebe63eb9",
     "showTitle": true,
     "tableResultSettingsMap": {},
     "title": "Visualizando informações gerais"
    }
   },
   "outputs": [],
   "source": [
    "# orders\n",
    "_data_info(orders_df)"
   ]
  },
  {
   "cell_type": "markdown",
   "metadata": {
    "application/vnd.databricks.v1+cell": {
     "cellMetadata": {
      "byteLimit": 2048000,
      "rowLimit": 10000
     },
     "inputWidgets": {},
     "nuid": "48cd24aa-50f7-4e54-b599-0de460a32e44",
     "showTitle": false,
     "tableResultSettingsMap": {},
     "title": ""
    }
   },
   "source": [
    "**ATENÇÃO:** Durante a fase de qualidade de dados, foram identificados 5.559 pedidos (~0.23% do total) sem um `customer_id` associado. Como este é o identificador único do cliente, essencial para o teste A/B e análise de retenção, esses registros serão removidos para garantir a integridade e precisão da análise subsequente. Além disso, não foi possível preenchê-lo a partir de outras informações como `customer_name`. Por fim, serão removidos os outros 2 registros que tiveram o items_parsed nulo. Dado o volume, removê-los não trará nenhum tipo de viés significativo a análise."
   ]
  },
  {
   "cell_type": "markdown",
   "metadata": {
    "application/vnd.databricks.v1+cell": {
     "cellMetadata": {},
     "inputWidgets": {},
     "nuid": "62a9f14a-6ad7-48e2-b7e9-9aa1b33bcaef",
     "showTitle": false,
     "tableResultSettingsMap": {},
     "title": ""
    }
   },
   "source": [
    "Todos os registros de `order` estão sem `delivery_address_latitude`, `delivery_address_longitude`, \n",
    "`merchant_latitude` e `merchant_longitude`. Essas colunas serão deletadas."
   ]
  },
  {
   "cell_type": "code",
   "execution_count": 0,
   "metadata": {
    "application/vnd.databricks.v1+cell": {
     "cellMetadata": {
      "byteLimit": 2048000,
      "rowLimit": 10000
     },
     "inputWidgets": {},
     "nuid": "34e0a5b5-ecd2-43c2-b07a-6af50635be69",
     "showTitle": true,
     "tableResultSettingsMap": {},
     "title": "Removendo dados faltantes em customer_id e items_parsed"
    }
   },
   "outputs": [],
   "source": [
    "orders_cleaned_df = orders_df.na.drop(subset=[\"customer_id\", \"items_parsed\"])\n",
    "orders_cleaned_df = orders_cleaned_df.drop(\n",
    "        f.col(\"delivery_address_latitude\"),\n",
    "        f.col(\"delivery_address_longitude\"),\n",
    "        f.col(\"merchant_latitude\"),\n",
    "        f.col(\"merchant_longitude\"),\n",
    ")\n",
    "\n",
    "_data_info(orders_cleaned_df)"
   ]
  },
  {
   "cell_type": "code",
   "execution_count": 0,
   "metadata": {
    "application/vnd.databricks.v1+cell": {
     "cellMetadata": {
      "byteLimit": 2048000,
      "rowLimit": 10000
     },
     "inputWidgets": {},
     "nuid": "2f59ba81-449b-463e-939f-3cefd2dc34b6",
     "showTitle": false,
     "tableResultSettingsMap": {},
     "title": ""
    }
   },
   "outputs": [],
   "source": [
    "orders_cleaned_df = orders_cleaned_df.drop(\n",
    "        f.col(\"delivery_address_latitude\"),\n",
    "        f.col(\"delivery_address_longitude\"),\n",
    "        f.col(\"merchant_latitude\"),\n",
    "        f.col(\"merchant_longitude\"),\n",
    ")\n",
    "\n",
    "orders_cleaned_df.columns"
   ]
  },
  {
   "cell_type": "code",
   "execution_count": 0,
   "metadata": {
    "application/vnd.databricks.v1+cell": {
     "cellMetadata": {
      "byteLimit": 2048000,
      "rowLimit": 10000
     },
     "inputWidgets": {},
     "nuid": "c2b444ea-6e01-42b4-a1fd-f3315d646860",
     "showTitle": true,
     "tableResultSettingsMap": {},
     "title": "Avaliando pedidos agendados"
    }
   },
   "outputs": [],
   "source": [
    "print(\"Verificando a relação entre o agendamento e a data de agendamento:\")\n",
    "display(\n",
    "    orders_cleaned_df.groupBy(f.col(\"order_scheduled\")).agg(\n",
    "        f.count(\"*\").alias(\"total_orders\"),\n",
    "        f.count(f.when(f.col(\"order_scheduled_date\").isNull(), 1)).alias(\"order_scheduled_date null\")\n",
    "    )\n",
    ")"
   ]
  },
  {
   "cell_type": "markdown",
   "metadata": {
    "application/vnd.databricks.v1+cell": {
     "cellMetadata": {},
     "inputWidgets": {},
     "nuid": "092097f7-a03e-4c2e-96b8-f96348325f09",
     "showTitle": false,
     "tableResultSettingsMap": {},
     "title": ""
    }
   },
   "source": [
    "Pela análise, chegamos a conclusão que:\n",
    "1. **99,98%** dos pedidos são feitos para entrega imediata\n",
    "2. As colunas `order_scheduled` e `order_scheduled_date` estão consistentes entre si"
   ]
  },
  {
   "cell_type": "code",
   "execution_count": 0,
   "metadata": {
    "application/vnd.databricks.v1+cell": {
     "cellMetadata": {
      "byteLimit": 2048000,
      "rowLimit": 10000
     },
     "inputWidgets": {},
     "nuid": "cb21eaa7-a2cf-4ce5-9f1c-38513f8eaaf4",
     "showTitle": true,
     "tableResultSettingsMap": {},
     "title": "Avaliando order_scheduled_date"
    }
   },
   "outputs": [],
   "source": [
    "order_scheduled_month_df = orders_cleaned_df.withColumn(\n",
    "    \"year_month\",\n",
    "    f.date_format(f.col(\"order_scheduled_date\"), \"yyyy-MM\")\n",
    ")\n",
    "\n",
    "order_scheduled_by_month_df = (\n",
    "    order_scheduled_month_df\n",
    "    .groupBy(f.col(\"year_month\"))\n",
    "    .count()\n",
    "    .orderBy(f.col(\"year_month\"))\n",
    ")\n",
    "\n",
    "print(\"Total de pedidos agendados por mês\")\n",
    "display(order_scheduled_by_month_df)"
   ]
  },
  {
   "cell_type": "markdown",
   "metadata": {
    "application/vnd.databricks.v1+cell": {
     "cellMetadata": {},
     "inputWidgets": {},
     "nuid": "af42c57c-5401-47f2-8152-232ba2676573",
     "showTitle": false,
     "tableResultSettingsMap": {},
     "title": ""
    }
   },
   "source": [
    "Além do pouco preenchimento da coluna `order_scheduled_date`, ela possui apenas datas do ano de 2016, onde na realidade deveria ser 2019. Sendo assim, vamos dropar essa coluna também."
   ]
  },
  {
   "cell_type": "code",
   "execution_count": 0,
   "metadata": {
    "application/vnd.databricks.v1+cell": {
     "cellMetadata": {
      "byteLimit": 2048000,
      "rowLimit": 10000
     },
     "inputWidgets": {},
     "nuid": "edbd7b90-2167-488c-b846-75c8405fb8b0",
     "showTitle": true,
     "tableResultSettingsMap": {},
     "title": "Deletando coluna order_scheduled_date"
    }
   },
   "outputs": [],
   "source": [
    "orders_cleaned_df = orders_cleaned_df.drop(f.col(\"order_scheduled_date\"))\n",
    "orders_cleaned_df.columns"
   ]
  },
  {
   "cell_type": "code",
   "execution_count": 0,
   "metadata": {
    "application/vnd.databricks.v1+cell": {
     "cellMetadata": {
      "byteLimit": 2048000,
      "rowLimit": 10000
     },
     "inputWidgets": {},
     "nuid": "30534c1c-2a06-4daa-9e86-765d6365c242",
     "showTitle": true,
     "tableResultSettingsMap": {},
     "title": "Análise de distribuição"
    }
   },
   "outputs": [],
   "source": [
    "numeric_cols = [\n",
    "    \"order_total_amount\",\n",
    "    \"total_items_value\",\n",
    "    \"total_items_quantity\",\n",
    "    \"num_distinct_items\"\n",
    "]\n",
    "\n",
    "print(\"Estatísticas Descritivas\")\n",
    "display(orders_cleaned_df.describe(numeric_cols).filter(f.col(\"summary\") != \"count\"))"
   ]
  },
  {
   "cell_type": "markdown",
   "metadata": {
    "application/vnd.databricks.v1+cell": {
     "cellMetadata": {},
     "inputWidgets": {},
     "nuid": "821061a2-be51-4295-982a-60691053f0d4",
     "showTitle": false,
     "tableResultSettingsMap": {},
     "title": ""
    }
   },
   "source": [
    "Aqui eu percebemos que estavamos ignorando itens de guarnição e com isso, alguns pedidos possuiam valor > 0 e valor total dos itens = 0. Voltamos e adicionamos, agora não existe mais esse caso."
   ]
  },
  {
   "cell_type": "code",
   "execution_count": 0,
   "metadata": {
    "application/vnd.databricks.v1+cell": {
     "cellMetadata": {
      "byteLimit": 2048000,
      "rowLimit": 10000
     },
     "inputWidgets": {},
     "nuid": "438839f8-503b-4458-bc19-8eab59a16786",
     "showTitle": false,
     "tableResultSettingsMap": {},
     "title": ""
    }
   },
   "outputs": [],
   "source": [
    "display(\n",
    "    orders_cleaned_df.filter(\n",
    "        (f.col(\"order_total_amount\") > 0) & (f.col(\"total_items_value\") == 0)\n",
    "    )\n",
    ")"
   ]
  },
  {
   "cell_type": "markdown",
   "metadata": {
    "application/vnd.databricks.v1+cell": {
     "cellMetadata": {},
     "inputWidgets": {},
     "nuid": "6973320c-c7ce-46ce-b725-d08a7cbe62d0",
     "showTitle": false,
     "tableResultSettingsMap": {},
     "title": ""
    }
   },
   "source": [
    "#### Estatísticas descritivas das colunas numéricas\n",
    "##### Análise dos valores dos pedidos\n",
    "\n",
    "* Valor Bruto vs. Valor Final: A observação mais importante é que a média do valor bruto dos itens (`total_items_value`) é de **R$ 56,45**, enquanto a média do valor total pago (`order_total_amount`) é de **R$ 47,85**. Isso indica que, em média, há um impacto de **R$ 8,60** por pedido proveniente de descontos (sejam eles dos restaurantes ou de campanhas), que reduzem o valor final pago pelo cliente.\n",
    "\n",
    "* Extrema Assimetria e Outliers: Para ambas as colunas de valor, o desvio padrão (**R$ 101-112**) é mais que o dobro da média. Isso, somado ao valor máximo de **R$ 138.750,90**, confirma que a distribuição dos dados é extremamente assimétrica à direita. A grande maioria dos pedidos são de baixo valor, mas um pequeno número de pedidos de valor altíssimo distorce fortemente a média.\n",
    "\n",
    "##### Análise das quantidades na cesta\n",
    "* Comportamento Típico de Compra: O comportamento padrão do cliente é fazer pedidos pequenos e focados. Em média, um pedido contém **2.34** itens no total (`total_items_quantity`) e **2.03** itens distintos (`num_distinct_items`). Isso sugere que os usuários geralmente não compram múltiplos do mesmo item na mesma cesta.\n",
    "\n",
    "* Outliers de Quantidade: Assim como nos valores, os valores máximos de **2.306** itens totais e **100** itens distintos são outliers extremos e não refletem o comportamento de um cliente comum.\n",
    "\n",
    "##### Conclusão e Próximos Passos\n",
    "A análise estatística revela um cenário claro: o volume principal de pedidos é gerado por compras pequenas e de baixo valor. A presença de outliers extremos em todas as métricas numéricas é o ponto de maior atenção."
   ]
  },
  {
   "cell_type": "code",
   "execution_count": 0,
   "metadata": {
    "application/vnd.databricks.v1+cell": {
     "cellMetadata": {
      "byteLimit": 2048000,
      "rowLimit": 10000
     },
     "inputWidgets": {},
     "nuid": "777774e1-5ea0-4138-b4fd-2d8f7eb1d775",
     "showTitle": true,
     "tableResultSettingsMap": {},
     "title": "Analise de outliers"
    }
   },
   "outputs": [],
   "source": [
    "iqr_df = _iqr(orders_cleaned_df, numeric_cols)\n",
    "display(iqr_df)"
   ]
  },
  {
   "cell_type": "code",
   "execution_count": 0,
   "metadata": {
    "application/vnd.databricks.v1+cell": {
     "cellMetadata": {
      "byteLimit": 2048000,
      "rowLimit": 10000
     },
     "inputWidgets": {},
     "nuid": "1f2689e1-dcfb-4701-a442-d11edf5debf3",
     "showTitle": true,
     "tableResultSettingsMap": {},
     "title": "Avaliando valor limite para os pedidos (p95)"
    }
   },
   "outputs": [],
   "source": [
    "p95 = iqr_df.select(f.col(\"P95\")).where(f.col(\"Column\") == \"order_total_amount\").collect()[0][0]\n",
    "print(f\"P95: {p95}\")\n",
    "\n",
    "orders_cleaned_df.filter(\n",
    "    (f.col(\"order_total_amount\") > p95)).count()"
   ]
  },
  {
   "cell_type": "markdown",
   "metadata": {
    "application/vnd.databricks.v1+cell": {
     "cellMetadata": {},
     "inputWidgets": {},
     "nuid": "9292c8ed-a6e1-48f9-9a8b-c13bc369ca9d",
     "showTitle": false,
     "tableResultSettingsMap": {},
     "title": ""
    }
   },
   "source": [
    "A distribuição de order_total_amount tem uma cauda longa a direita. Porém, 95% dos pedidos tem valores até R$ 105,00. Como existem 132.110 pedidos com valor maior que o p95, vamos utilizar uma técnica de capping para não perder informação e remover o viés. Sendo assim, para o propósito de avaliar o impacto médio desta campanha, estamos considerando que o comportamento de um cliente que gasta R$ 110 é similar ao de um cliente que gasta R$ 10.000. Ambos são 'clientes de alto valor', não queremos que a diferença enorme entre eles distorça a média de todo o grupo."
   ]
  },
  {
   "cell_type": "code",
   "execution_count": 0,
   "metadata": {
    "application/vnd.databricks.v1+cell": {
     "cellMetadata": {
      "byteLimit": 2048000,
      "rowLimit": 10000
     },
     "inputWidgets": {},
     "nuid": "2e54b8b9-76b5-428c-90dc-66f71a711fd8",
     "showTitle": true,
     "tableResultSettingsMap": {},
     "title": "Capping nos valores > p95"
    }
   },
   "outputs": [],
   "source": [
    "orders_final_df = orders_cleaned_df.withColumn(\n",
    "    \"order_total_amount_capped\",\n",
    "    f.when(f.col(\"order_total_amount\") > p95, p95)\n",
    "     .otherwise(f.col(\"order_total_amount\"))\n",
    ")\n",
    "\n",
    "display(orders_final_df.limit(5))"
   ]
  },
  {
   "cell_type": "code",
   "execution_count": 0,
   "metadata": {
    "application/vnd.databricks.v1+cell": {
     "cellMetadata": {
      "byteLimit": 2048000,
      "rowLimit": 10000
     },
     "inputWidgets": {},
     "nuid": "58470a8b-8f25-4deb-af21-105e93934929",
     "showTitle": true,
     "tableResultSettingsMap": {},
     "title": "Criando tabela order na camada silver"
    }
   },
   "outputs": [],
   "source": [
    "silver_order_table_name = f\"{SILVER_LAYER_PATH}.order\"\n",
    "\n",
    "spark.sql(f\"DROP TABLE IF EXISTS {silver_order_table_name}\")\n",
    "\n",
    "orders_final_df = orders_final_df.withColumn(\"partition_date\", f.to_date(f.col(\"order_created_at\")))\n",
    "\n",
    "(orders_final_df.write\n",
    " .partitionBy(\"partition_date\")\n",
    " .format(\"delta\")\n",
    " .mode(\"overwrite\")\n",
    " .saveAsTable(silver_order_table_name))\n",
    "\n",
    "# adicionando descrição das colunas\n",
    "add_column_comments(silver_order_table_name, ORDER_SILVER_COLUMN_COMMENTS)\n",
    "\n",
    "print(\"Tabela 'order' da camada Silver criada com sucesso!\")"
   ]
  },
  {
   "cell_type": "markdown",
   "metadata": {
    "application/vnd.databricks.v1+cell": {
     "cellMetadata": {},
     "inputWidgets": {},
     "nuid": "5c99244d-8d40-45a9-bb8b-821587a0f243",
     "showTitle": false,
     "tableResultSettingsMap": {},
     "title": ""
    }
   },
   "source": [
    "### Consumer"
   ]
  },
  {
   "cell_type": "code",
   "execution_count": 0,
   "metadata": {
    "application/vnd.databricks.v1+cell": {
     "cellMetadata": {
      "byteLimit": 2048000,
      "rowLimit": 10000
     },
     "inputWidgets": {},
     "nuid": "3015ea08-a898-47c6-a6fb-504a85077057",
     "showTitle": true,
     "tableResultSettingsMap": {},
     "title": "Avaliando schema de consumer"
    }
   },
   "outputs": [],
   "source": [
    "consumers_df.printSchema()"
   ]
  },
  {
   "cell_type": "code",
   "execution_count": 0,
   "metadata": {
    "application/vnd.databricks.v1+cell": {
     "cellMetadata": {
      "byteLimit": 2048000,
      "rowLimit": 10000
     },
     "inputWidgets": {},
     "nuid": "45347a30-3fab-4fa8-8e39-4fdc14a9466c",
     "showTitle": true,
     "tableResultSettingsMap": {},
     "title": "Trazendo informações gerais"
    }
   },
   "outputs": [],
   "source": [
    "_data_info(consumers_df)"
   ]
  },
  {
   "cell_type": "code",
   "execution_count": 0,
   "metadata": {
    "application/vnd.databricks.v1+cell": {
     "cellMetadata": {
      "byteLimit": 2048000,
      "rowLimit": 10000
     },
     "inputWidgets": {},
     "nuid": "1a9af98d-319d-4f5e-9d86-0064fcd106d7",
     "showTitle": true,
     "tableResultSettingsMap": {},
     "title": "Avaliando total de customer_id duplicados"
    }
   },
   "outputs": [],
   "source": [
    "customer_id_duplicated_df = consumers_df.groupBy(f.col(\"customer_id\")).count().filter(f.col(\"count\") > 1)\n",
    "print(f\"Total de customer_id duplicados: {customer_id_duplicated_df.count()}\")"
   ]
  },
  {
   "cell_type": "markdown",
   "metadata": {
    "application/vnd.databricks.v1+cell": {
     "cellMetadata": {},
     "inputWidgets": {},
     "nuid": "449d37b1-4b20-42f6-9b4c-b24ce2d33f54",
     "showTitle": false,
     "tableResultSettingsMap": {},
     "title": ""
    }
   },
   "source": [
    "O tempo que um cliente está na plataforma é uma boa variavel para prever comportamento. Clientes novos podem reagir a cupons de forma diferente de clientes antigos.\n",
    "\n",
    "**Hipótese:** \n",
    "O cupom é mais eficaz para converter novos usuários do que para reter usuários antigos.\n",
    "\n",
    "**Ação:** \n",
    "Calcular o número de dias entre a data de criação da conta (`created_at`) e o início do nosso período de análise."
   ]
  },
  {
   "cell_type": "code",
   "execution_count": 0,
   "metadata": {
    "application/vnd.databricks.v1+cell": {
     "cellMetadata": {
      "byteLimit": 2048000,
      "rowLimit": 10000
     },
     "inputWidgets": {},
     "nuid": "b00f2655-bae6-45bd-ad12-4028aa421a1c",
     "showTitle": true,
     "tableResultSettingsMap": {},
     "title": "Usuário mais antigo e mais recente"
    }
   },
   "outputs": [],
   "source": [
    "min_created_at_range = consumers_df.select(f.to_date(f.min(f.col(\"created_at\")))).collect()[0][0]\n",
    "max_created_at_range = consumers_df.select(f.to_date(f.max(f.col(\"created_at\")))).collect()[0][0]\n",
    "\n",
    "print(f\"O cliente mais antigo entrou na plataforma em: {min_created_at_range.strftime('%d/%m/%Y')}\")\n",
    "print(f\"O cliente mais novo entrou na plataforma em: {max_created_at_range.strftime('%d/%m/%Y')}\")"
   ]
  },
  {
   "cell_type": "code",
   "execution_count": 0,
   "metadata": {
    "application/vnd.databricks.v1+cell": {
     "cellMetadata": {
      "byteLimit": 2048000,
      "rowLimit": 10000
     },
     "inputWidgets": {},
     "nuid": "b6985f69-7c3d-4f1a-a1ff-a150a6c6f571",
     "showTitle": true,
     "tableResultSettingsMap": {},
     "title": "Calculando o tempo que o consumer está na plataforma até o inicio do teste"
    }
   },
   "outputs": [],
   "source": [
    "campaign_start_date = f.to_date(f.lit(\"2019-01-01\"))\n",
    "\n",
    "consumers_df = consumers_df.withColumn(\n",
    "  \"days_since_signup\",\n",
    "  f.date_diff(campaign_start_date, f.to_date(f.col(\"created_at\")))  \n",
    ")\n",
    "\n",
    "# clientes com menos de 90 dias até a campanha consideramos novos clientes\n",
    "consumers_df = consumers_df.withColumn(\n",
    "    \"maturity_segment\",\n",
    "    f.when(f.col(\"days_since_signup\") < 90, \"novo\")\n",
    "     .otherwise(\"antigo\")\n",
    ")\n",
    "\n",
    "print(\"Segmentação por maturidade do cliente\")\n",
    "display(consumers_df.groupBy(\"maturity_segment\").count())"
   ]
  },
  {
   "cell_type": "markdown",
   "metadata": {
    "application/vnd.databricks.v1+cell": {
     "cellMetadata": {},
     "inputWidgets": {},
     "nuid": "6b291040-77f1-46d6-a97f-f7701f0784b3",
     "showTitle": false,
     "tableResultSettingsMap": {},
     "title": ""
    }
   },
   "source": [
    "Como não temos novos clientes de acordo com o periodo estabelecido, podemos remover a coluna maturity_segment"
   ]
  },
  {
   "cell_type": "code",
   "execution_count": 0,
   "metadata": {
    "application/vnd.databricks.v1+cell": {
     "cellMetadata": {
      "byteLimit": 2048000,
      "rowLimit": 10000
     },
     "inputWidgets": {},
     "nuid": "dad2f58b-ef87-42a7-a809-ded29c304c95",
     "showTitle": true,
     "tableResultSettingsMap": {},
     "title": "Analisando se o cosumer está ativo na plataforma"
    }
   },
   "outputs": [],
   "source": [
    "display(consumers_df.groupBy(\"active\").count())\n",
    "\n",
    "consumers_final_df = consumers_df.drop(f.col(\"maturity_segment\"))"
   ]
  },
  {
   "cell_type": "markdown",
   "metadata": {
    "application/vnd.databricks.v1+cell": {
     "cellMetadata": {},
     "inputWidgets": {},
     "nuid": "061039b2-d8c3-4477-aeb9-6472415b5379",
     "showTitle": false,
     "tableResultSettingsMap": {},
     "title": ""
    }
   },
   "source": [
    "Um cupom pode ter o objetivo de reativar clientes inativos ou simplesmente aumentar a frequência dos que já são ativos.\n",
    "\n",
    "**Hipótese:** O cupom é mais eficaz para reativar clientes inativos do que para aumentar o gasto de clientes já ativos.\n",
    "\n",
    "**Ação:** Usar a coluna `active` diretamente na nossa análise final para comparar os resultados do teste A/B entre esses dois grupos."
   ]
  },
  {
   "cell_type": "markdown",
   "metadata": {
    "application/vnd.databricks.v1+cell": {
     "cellMetadata": {},
     "inputWidgets": {},
     "nuid": "b23ce44e-7f95-41f7-b2de-a9baed8833ba",
     "showTitle": false,
     "tableResultSettingsMap": {},
     "title": ""
    }
   },
   "source": [
    "Isso permitirá responder à pergunta **\"A campanha teve impacto?\"** de forma mais granular. Em vez de uma única resposta:\n",
    "\n",
    "\"No geral, a campanha teve um aumento de X no ticket médio.\"\n",
    "\n",
    "\"Porém, este efeito foi impulsionado principalmente pelos Clientes Novos, que aumentaram seu gasto em Y, enquanto nos Clientes Antigos o efeito foi insignificante.\"\n",
    "\n",
    "\"Além disso, observamos que o cupom foi muito eficaz para reativar clientes inativos, aumentando a probabilidade de compra em Z%, mas teve pouco efeito na frequência de compra dos clientes já ativos.\""
   ]
  },
  {
   "cell_type": "code",
   "execution_count": 0,
   "metadata": {
    "application/vnd.databricks.v1+cell": {
     "cellMetadata": {
      "byteLimit": 2048000,
      "rowLimit": 10000
     },
     "inputWidgets": {},
     "nuid": "d9b5b3dd-880d-48e5-80a6-31b213ddec45",
     "showTitle": true,
     "tableResultSettingsMap": {},
     "title": "Avaliando a lingua nativa dos usuários"
    }
   },
   "outputs": [],
   "source": [
    "display(consumers_final_df.groupBy(\"language\").count())"
   ]
  },
  {
   "cell_type": "markdown",
   "metadata": {
    "application/vnd.databricks.v1+cell": {
     "cellMetadata": {},
     "inputWidgets": {},
     "nuid": "89a46795-7560-42e8-b2ec-62bc269baff0",
     "showTitle": false,
     "tableResultSettingsMap": {},
     "title": ""
    }
   },
   "source": [
    "A coluna `language` não traz informação relevante e pode ser deletada. Além disso, as colunas\n",
    "`created_at`, `customer_name`, `customer_phone_area` e `customer_phone_number` para a analise que estamos realizando não são uteis, pois o nome não é um identificador único, o código de área poderia ser usado para avaliar a localização, mas isso já está presente em orders e o número de telefone é um dado PII que não tem nenhuma relevância para o case. Sendo assim, também serão excluídas."
   ]
  },
  {
   "cell_type": "code",
   "execution_count": 0,
   "metadata": {
    "application/vnd.databricks.v1+cell": {
     "cellMetadata": {
      "byteLimit": 2048000,
      "rowLimit": 10000
     },
     "inputWidgets": {},
     "nuid": "44f98956-2df1-4717-aaee-1dc6a9f2c296",
     "showTitle": true,
     "tableResultSettingsMap": {},
     "title": "Removendo colunas desnecessárias"
    }
   },
   "outputs": [],
   "source": [
    "consumers_final_df = consumers_final_df.drop(\n",
    "    f.col(\"language\"),\n",
    "    f.col(\"created_at\"), \n",
    "    f.col(\"customer_name\"), \n",
    "    f.col(\"customer_phone_area\"), \n",
    "    f.col(\"customer_phone_number\")\n",
    ")\n",
    "\n",
    "consumers_final_df.printSchema()"
   ]
  },
  {
   "cell_type": "code",
   "execution_count": 0,
   "metadata": {
    "application/vnd.databricks.v1+cell": {
     "cellMetadata": {
      "byteLimit": 2048000,
      "rowLimit": 10000
     },
     "inputWidgets": {},
     "nuid": "876df0ae-b615-47ef-ad01-a202ed0305c8",
     "showTitle": true,
     "tableResultSettingsMap": {},
     "title": "Criando tabela consumer na camada silver"
    }
   },
   "outputs": [],
   "source": [
    "silver_consumer_table_name = f\"{SILVER_LAYER_PATH}.consumer\"\n",
    "\n",
    "spark.sql(f\"DROP TABLE IF EXISTS {silver_consumer_table_name}\")\n",
    "\n",
    "(consumers_final_df.write\n",
    " .format(\"delta\")\n",
    " .mode(\"overwrite\")\n",
    " .saveAsTable(silver_consumer_table_name))\n",
    "\n",
    "# adicionando descrição das colunas\n",
    "add_column_comments(silver_consumer_table_name, CONSUMER_SILVER_COLUMN_COMMENTS)\n",
    "\n",
    "print(\"Tabela 'consumer' da camada Silver criada com sucesso!\")"
   ]
  },
  {
   "cell_type": "markdown",
   "metadata": {
    "application/vnd.databricks.v1+cell": {
     "cellMetadata": {},
     "inputWidgets": {},
     "nuid": "d132e46d-6156-4999-acb5-a4f2108e22ca",
     "showTitle": false,
     "tableResultSettingsMap": {},
     "title": ""
    }
   },
   "source": [
    "### Restaurant"
   ]
  },
  {
   "cell_type": "code",
   "execution_count": 0,
   "metadata": {
    "application/vnd.databricks.v1+cell": {
     "cellMetadata": {
      "byteLimit": 2048000,
      "rowLimit": 10000
     },
     "inputWidgets": {},
     "nuid": "949cb76d-b456-4918-be6b-7835ac4f8985",
     "showTitle": true,
     "tableResultSettingsMap": {},
     "title": "Avaliando schema de restaurant"
    }
   },
   "outputs": [],
   "source": [
    "restaurants_df.printSchema()"
   ]
  },
  {
   "cell_type": "markdown",
   "metadata": {
    "application/vnd.databricks.v1+cell": {
     "cellMetadata": {},
     "inputWidgets": {},
     "nuid": "ca8fce87-fe3c-4913-b3f1-26515e264d81",
     "showTitle": false,
     "tableResultSettingsMap": {},
     "title": ""
    }
   },
   "source": [
    "Primeiro passo é renomear a coluna `id` para `merchant_id`, para ficar consistente com a tabela order."
   ]
  },
  {
   "cell_type": "code",
   "execution_count": 0,
   "metadata": {
    "application/vnd.databricks.v1+cell": {
     "cellMetadata": {
      "byteLimit": 2048000,
      "rowLimit": 10000
     },
     "inputWidgets": {},
     "nuid": "7bc4bce2-79e3-46cd-820a-0fd43c8e0992",
     "showTitle": true,
     "tableResultSettingsMap": {},
     "title": "Renomeando coluna id para merchant_id"
    }
   },
   "outputs": [],
   "source": [
    "restaurants_df = restaurants_df.withColumnRenamed(\"id\", \"merchant_id\")\n",
    "restaurants_df.printSchema()"
   ]
  },
  {
   "cell_type": "code",
   "execution_count": 0,
   "metadata": {
    "application/vnd.databricks.v1+cell": {
     "cellMetadata": {
      "byteLimit": 2048000,
      "rowLimit": 10000
     },
     "inputWidgets": {},
     "nuid": "6b5461aa-3566-4c63-8ff3-2e5b4fe982bd",
     "showTitle": true,
     "tableResultSettingsMap": {},
     "title": "Avaliando total de merchant_id duplicados"
    }
   },
   "outputs": [],
   "source": [
    "merchant_id_duplicated_df = restaurants_df.groupBy(f.col(\"merchant_id\")).count().filter(f.col(\"count\") > 1)\n",
    "print(f\"Total de merchant_id duplicados: {merchant_id_duplicated_df.count()}\")"
   ]
  },
  {
   "cell_type": "code",
   "execution_count": 0,
   "metadata": {
    "application/vnd.databricks.v1+cell": {
     "cellMetadata": {
      "byteLimit": 2048000,
      "rowLimit": 10000
     },
     "inputWidgets": {},
     "nuid": "52f70d0c-0b67-4fb0-90ad-107baab83e73",
     "showTitle": true,
     "tableResultSettingsMap": {},
     "title": "Trazendo informações gerais"
    }
   },
   "outputs": [],
   "source": [
    "_data_info(restaurants_df)"
   ]
  },
  {
   "cell_type": "code",
   "execution_count": 0,
   "metadata": {
    "application/vnd.databricks.v1+cell": {
     "cellMetadata": {
      "byteLimit": 2048000,
      "rowLimit": 10000
     },
     "inputWidgets": {},
     "nuid": "0a5b1ac1-3593-4630-a863-3145948e5f30",
     "showTitle": true,
     "tableResultSettingsMap": {},
     "title": "Imputando valor no minimum_order_value que está nulo"
    }
   },
   "outputs": [],
   "source": [
    "mean_min_order_value = restaurants_df.select(f.mean(f.col(\"minimum_order_value\"))).first()[0]\n",
    "print(f\"A média para 'minimum_order_value' é: {mean_min_order_value:.2f}\")\n",
    "\n",
    "restaurants_df = restaurants_df.na.fill(mean_min_order_value, subset=[\"minimum_order_value\"])"
   ]
  },
  {
   "cell_type": "code",
   "execution_count": 0,
   "metadata": {
    "application/vnd.databricks.v1+cell": {
     "cellMetadata": {
      "byteLimit": 2048000,
      "rowLimit": 10000
     },
     "inputWidgets": {},
     "nuid": "afed84a1-f63a-420b-9adf-32e32066ba03",
     "showTitle": true,
     "tableResultSettingsMap": {},
     "title": "Análise de distribuição"
    }
   },
   "outputs": [],
   "source": [
    "numeric_cols = [\n",
    "    \"price_range\",\n",
    "    \"average_ticket\",\n",
    "    \"delivery_time\",\n",
    "    \"minimum_order_value\"\n",
    "]\n",
    "\n",
    "print(\"Estatísticas Descritivas\")\n",
    "display(restaurants_df.describe(numeric_cols).filter(f.col(\"summary\") != \"count\"))"
   ]
  },
  {
   "cell_type": "markdown",
   "metadata": {
    "application/vnd.databricks.v1+cell": {
     "cellMetadata": {},
     "inputWidgets": {},
     "nuid": "23279dcc-faca-473a-9780-86661276c2af",
     "showTitle": false,
     "tableResultSettingsMap": {},
     "title": ""
    }
   },
   "source": [
    "#### Estatísticas descritivas das colunas numéricas\n",
    "##### Análise dos valores\n",
    "\n",
    "`price_range`\n",
    "\n",
    "* A média é de **2.56** em uma escala que vai de 1 a 5. \n",
    "* Isso indica que a maioria dos restaurantes na plataforma se concentra em uma faixa de preço intermediária. Não há um domínio nem de restaurantes muito baratos (próximo de 1) nem muito caros (próximo de 5). A distribuição é relativamente centrada.\n",
    "\n",
    "`average_ticket`\n",
    "\n",
    "* A média do ticket por restaurante é de **R$ 53,72**, com um desvio padrão de **R$ 19,56**. \n",
    "* Há uma variabilidade moderada no ticket médio entre os restaurantes. O desvio padrão não é excessivamente alto em comparação com a média, sugerindo que, embora existam restaurantes com tickets mais altos ou mais baixos, a maioria orbita em torno da faixa de **R$ 34 a R$ 73** (aproximadamente um desvio padrão da média).\n",
    "\n",
    "`delivery_time`\n",
    "\n",
    "* A média do tempo de entrega padrão é de apenas **3.18** (provavelmente em minutos, mas a escala parece estranha ou os dados podem estar normalizados), mas o desvio padrão é alto (**8.42**) e o máximo é **60**. \n",
    "\n",
    "* A média muito baixa e o desvio padrão alto indicam que esta coluna pode ter problemas de qualidade ou uma unidade de medida que não está clara. A maioria dos restaurantes talvez tenha um valor padrão baixo no sistema, enquanto alguns têm tempos de entrega mais realistas. Para os objetivos da análise, esta coluna tem baixa confiabilidade e provavelmente não será útil. \n",
    "\n",
    "* O objetivo central do case é medir o impacto de um cupom na retenção e no comportamento de compra dos usuários, acreditamos que o tempo de entrega padrão pode não influenciar na eficacia do cupom.\n",
    "\n",
    "`minimum_order_value`\n",
    "\n",
    "* A média do valor mínimo para um pedido é de **R$ 28,03**. O mínimo é **R$ 0** e o máximo é **R$ 285**. \n",
    "\n",
    "* A média de **R$ 28,00** é um valor razoável para um pedido mínimo. O desvio padrão de **R$ 25,24** e o máximo de **R$ 285,00** indicam, novamente, a presença de outliers."
   ]
  },
  {
   "cell_type": "code",
   "execution_count": 0,
   "metadata": {
    "application/vnd.databricks.v1+cell": {
     "cellMetadata": {
      "byteLimit": 2048000,
      "rowLimit": 10000
     },
     "inputWidgets": {},
     "nuid": "8fb17fa4-a046-4bde-b2ec-97dbcce0099c",
     "showTitle": true,
     "tableResultSettingsMap": {},
     "title": "Removendo delivery_time"
    }
   },
   "outputs": [],
   "source": [
    "restaurants_cleaned_df = restaurants_df.drop(f.col(\"delivery_time\"))\n",
    "restaurants_cleaned_df.printSchema()"
   ]
  },
  {
   "cell_type": "code",
   "execution_count": 0,
   "metadata": {
    "application/vnd.databricks.v1+cell": {
     "cellMetadata": {
      "byteLimit": 2048000,
      "rowLimit": 10000
     },
     "inputWidgets": {},
     "nuid": "5f5d6cef-7c61-46f7-a472-a12c3b195bbe",
     "showTitle": true,
     "tableResultSettingsMap": {},
     "title": "Criando perfil do restaurant"
    }
   },
   "outputs": [],
   "source": [
    "mean_avg_ticket = restaurants_df.select(f.round(f.mean(f.col(\"average_ticket\")), 2)).first()[0]\n",
    "mean_min_order_value = restaurants_df.select(f.round(f.mean(f.col(\"minimum_order_value\")), 2)).first()[0]\n",
    "\n",
    "restaurants_cleaned_df = restaurants_cleaned_df.withColumn(\n",
    "    \"restaurant_profile\",\n",
    "    f.when(\n",
    "        (f.col(\"average_ticket\") >= mean_avg_ticket) & (f.col(\"minimum_order_value\") >= mean_min_order_value),\n",
    "        \"Perfil Alto Valor\"\n",
    "    ).when(\n",
    "        (f.col(\"average_ticket\") < mean_avg_ticket) & (f.col(\"minimum_order_value\") < mean_min_order_value),\n",
    "        \"Perfil Baixo Valor\"\n",
    "    ).otherwise(\"Perfil Intermediário\")\n",
    ")"
   ]
  },
  {
   "cell_type": "markdown",
   "metadata": {
    "application/vnd.databricks.v1+cell": {
     "cellMetadata": {},
     "inputWidgets": {},
     "nuid": "c457f9f9-8d2f-4e13-bef8-d020902ab4c7",
     "showTitle": false,
     "tableResultSettingsMap": {},
     "title": ""
    }
   },
   "source": [
    "**As seguintes colunas serão descartadas**\n",
    "\n",
    "`created_at`\n",
    "\n",
    "* A data de criação do restaurante é uma informação sobre a \"maturidade\" do parceiro. Embora interessante, o impacto do cupom está muito mais ligado à maturidade do clientebdo que à do restaurante. Manter essa coluna adicionaria uma complexidade que não é central para o problema.\n",
    "\n",
    "`enabled`\n",
    "\n",
    "* Esta flag indica se o restaurante está ativo. Como a nossa análise é baseada em pedidos que já ocorreram, podemos assumir que todos os restaurantes envolvidos nesses pedidos estavam habilitados no momento da transação. Portanto, esta coluna não nos ajudará a segmentar ou a entender o resultado do teste A/B. As duas celulas subsequentes mostram que de fato existem pedidos em restaurantes que estão marcados como inativos.\n",
    "\n",
    "`merchant_zip_code`\n",
    "\n",
    "* Análise: O CEP é uma informação geográfica muito granular. Para uma análise de negócio de alto nível, agrupar por estado ou cidade é muito mais útil e informativo. O CEP não oferece um nível de agregação prático para este case."
   ]
  },
  {
   "cell_type": "code",
   "execution_count": 0,
   "metadata": {
    "application/vnd.databricks.v1+cell": {
     "cellMetadata": {
      "byteLimit": 2048000,
      "rowLimit": 10000
     },
     "inputWidgets": {},
     "nuid": "6f3c1174-ec42-42b7-9cd7-561aaee4b6ca",
     "showTitle": true,
     "tableResultSettingsMap": {},
     "title": "Avaliando enabled"
    }
   },
   "outputs": [],
   "source": [
    "display(restaurants_cleaned_df.groupBy(f.col(\"enabled\")).count())"
   ]
  },
  {
   "cell_type": "code",
   "execution_count": 0,
   "metadata": {
    "application/vnd.databricks.v1+cell": {
     "cellMetadata": {
      "byteLimit": 2048000,
      "rowLimit": 10000
     },
     "inputWidgets": {},
     "nuid": "83e5b318-3f25-47e1-9fbe-e6323ced7e78",
     "showTitle": true,
     "tableResultSettingsMap": {},
     "title": "Avaliando pedidos em parceiros inativos"
    }
   },
   "outputs": [],
   "source": [
    "inactive_restaurants_df = restaurants_cleaned_df.filter(f.col(\"enabled\") == False).select(\"merchant_id\")\n",
    "\n",
    "inactive_orders_df = orders_cleaned_df.join(\n",
    "    inactive_restaurants_df.hint(\"broadcast\"),\n",
    "    \"merchant_id\",\n",
    "    \"inner\"\n",
    ")\n",
    "\n",
    "print(f\"Total de pedidos realizados em parceiros inativos: {inactive_orders_df.count()}\")\n",
    "\n",
    "display(inactive_orders_df.limit(5))"
   ]
  },
  {
   "cell_type": "markdown",
   "metadata": {
    "application/vnd.databricks.v1+cell": {
     "cellMetadata": {},
     "inputWidgets": {},
     "nuid": "e65890fb-7f1f-4c00-8570-906611012f2a",
     "showTitle": false,
     "tableResultSettingsMap": {},
     "title": ""
    }
   },
   "source": [
    "Foi verificado que 728174 pedidos foram realizados em restaurantes que, na base de parceiros, constam como inativos. Isso pode indicar uma latência na atualização dos dados. Para esta análise, os pedidos foram mantidos, mas em um ambiente de produção, a causa raiz dessa inconsistência deveria ser investigada."
   ]
  },
  {
   "cell_type": "code",
   "execution_count": 0,
   "metadata": {
    "application/vnd.databricks.v1+cell": {
     "cellMetadata": {
      "byteLimit": 2048000,
      "rowLimit": 10000
     },
     "inputWidgets": {},
     "nuid": "374d53a2-cbff-4631-9d34-90cc319b981d",
     "showTitle": true,
     "tableResultSettingsMap": {},
     "title": "Deletando colunas desnecessárias em restaurant"
    }
   },
   "outputs": [],
   "source": [
    "restaurants_final_df = restaurants_cleaned_df.drop(\n",
    "    f.col(\"enabled\"), \n",
    "    f.col(\"created_at\"), \n",
    "    f.col(\"merchant_zip_code\")\n",
    ")\n",
    "\n",
    "restaurants_final_df.printSchema()"
   ]
  },
  {
   "cell_type": "code",
   "execution_count": 0,
   "metadata": {
    "application/vnd.databricks.v1+cell": {
     "cellMetadata": {
      "byteLimit": 2048000,
      "rowLimit": 10000
     },
     "inputWidgets": {},
     "nuid": "4e3cd92a-d1d5-4952-aae9-d97879360ba3",
     "showTitle": true,
     "tableResultSettingsMap": {},
     "title": "Criando tabela restaurant na camada Silver"
    }
   },
   "outputs": [],
   "source": [
    "silver_restaurant_table_name = f\"{SILVER_LAYER_PATH}.restaurant\"\n",
    "\n",
    "spark.sql(f\"DROP TABLE IF EXISTS {silver_restaurant_table_name}\")\n",
    "\n",
    "(restaurants_final_df.write\n",
    " .format(\"delta\")\n",
    " .mode(\"overwrite\")\n",
    " .saveAsTable(silver_restaurant_table_name))\n",
    "\n",
    "# adicionando descrição das colunas\n",
    "add_column_comments(silver_restaurant_table_name, RESTAURANT_SILVER_COLUMN_COMMENTS)\n",
    "\n",
    "print(\"Tabela 'restaurant' da camada Silver criada com sucesso!\")"
   ]
  },
  {
   "cell_type": "markdown",
   "metadata": {
    "application/vnd.databricks.v1+cell": {
     "cellMetadata": {},
     "inputWidgets": {},
     "nuid": "b91792c1-ffa0-49af-85a2-057e97027f48",
     "showTitle": false,
     "tableResultSettingsMap": {},
     "title": ""
    }
   },
   "source": [
    "### A/B Test Ref"
   ]
  },
  {
   "cell_type": "code",
   "execution_count": 0,
   "metadata": {
    "application/vnd.databricks.v1+cell": {
     "cellMetadata": {
      "byteLimit": 2048000,
      "rowLimit": 10000
     },
     "inputWidgets": {},
     "nuid": "32cc50f1-7c77-4cf0-87a2-06ae73067f31",
     "showTitle": true,
     "tableResultSettingsMap": {},
     "title": "Avaliando schema de ab_test_ref"
    }
   },
   "outputs": [],
   "source": [
    "ab_test_df.printSchema()"
   ]
  },
  {
   "cell_type": "code",
   "execution_count": 0,
   "metadata": {
    "application/vnd.databricks.v1+cell": {
     "cellMetadata": {
      "byteLimit": 2048000,
      "rowLimit": 10000
     },
     "inputWidgets": {},
     "nuid": "08997702-ff43-49e9-873e-78075eee8fa6",
     "showTitle": true,
     "tableResultSettingsMap": {},
     "title": "Trazendo informações gerais"
    }
   },
   "outputs": [],
   "source": [
    "_data_info(ab_test_df)"
   ]
  },
  {
   "cell_type": "code",
   "execution_count": 0,
   "metadata": {
    "application/vnd.databricks.v1+cell": {
     "cellMetadata": {
      "byteLimit": 2048000,
      "rowLimit": 10000
     },
     "inputWidgets": {},
     "nuid": "68fc1507-ad0a-47a9-9cc9-70f2f84b032b",
     "showTitle": true,
     "tableResultSettingsMap": {},
     "title": "Avaliando total de customer_id duplicado em ab_test_ref"
    }
   },
   "outputs": [],
   "source": [
    "ab_test_duplicated_df = ab_test_df.groupBy(f.col(\"customer_id\")).count().filter(f.col(\"count\") > 1)\n",
    "print(f\"Total de customer_id duplicados em ab_ref_test: {ab_test_duplicated_df.count()}\")"
   ]
  },
  {
   "cell_type": "code",
   "execution_count": 0,
   "metadata": {
    "application/vnd.databricks.v1+cell": {
     "cellMetadata": {
      "byteLimit": 2048000,
      "rowLimit": 10000
     },
     "inputWidgets": {},
     "nuid": "a7c307a7-61e0-44c8-b997-93a0081b0ff9",
     "showTitle": true,
     "tableResultSettingsMap": {},
     "title": "Análise de distribuição do is_target"
    }
   },
   "outputs": [],
   "source": [
    "display(ab_test_df.groupBy(f.col(\"is_target\")).count())"
   ]
  },
  {
   "cell_type": "markdown",
   "metadata": {
    "application/vnd.databricks.v1+cell": {
     "cellMetadata": {},
     "inputWidgets": {},
     "nuid": "bab0760c-886f-49f9-bcf4-c3b2266bf67c",
     "showTitle": false,
     "tableResultSettingsMap": {},
     "title": ""
    }
   },
   "source": [
    "Aqui, percebemos que o ab_test_ref tem mais usuários distintos que o consumers. É uma descoberta, mas não é um bloqueio. Isso pode acontecer por vários motivos em um ambiente de produção, como um erro de ingestão ou latência na replicação de dados."
   ]
  },
  {
   "cell_type": "code",
   "execution_count": 0,
   "metadata": {
    "application/vnd.databricks.v1+cell": {
     "cellMetadata": {
      "byteLimit": 2048000,
      "rowLimit": 10000
     },
     "inputWidgets": {},
     "nuid": "34d507a4-9dcb-47ae-b9ad-85093e107876",
     "showTitle": true,
     "tableResultSettingsMap": {},
     "title": "Diferença no total de consumers diferentes entre ab_test_df e consumers_df"
    }
   },
   "outputs": [],
   "source": [
    "missing_customers = ab_test_df.join(\n",
    "    consumers_df,\n",
    "    \"customer_id\",\n",
    "    \"left_anti\"\n",
    ").count()\n",
    "\n",
    "print(f\"O DataFrame ab_test tem {missing_customers} usuários a mais que o consumers_df.\")"
   ]
  },
  {
   "cell_type": "markdown",
   "metadata": {
    "application/vnd.databricks.v1+cell": {
     "cellMetadata": {},
     "inputWidgets": {},
     "nuid": "0424d7bb-05fb-4a55-b77f-16f4c082c207",
     "showTitle": false,
     "tableResultSettingsMap": {},
     "title": ""
    }
   },
   "source": [
    "Essa informação é importante para determinar a ordem dos joins das tabelas e não perder informação. \n",
    "\n",
    "orders INNER JOIN ab_test_ref LEFT JOIN consumers LEFT JOIN restaurants"
   ]
  },
  {
   "cell_type": "code",
   "execution_count": 0,
   "metadata": {
    "application/vnd.databricks.v1+cell": {
     "cellMetadata": {
      "byteLimit": 2048000,
      "rowLimit": 10000
     },
     "inputWidgets": {},
     "nuid": "684c9a42-b18a-44c0-893d-752a30d73bf8",
     "showTitle": true,
     "tableResultSettingsMap": {},
     "title": "Alterando is_target para o tipo Boolean"
    }
   },
   "outputs": [],
   "source": [
    "ab_test_final_df = ab_test_df.withColumn(\n",
    "    \"is_target\", \n",
    "    (f.col(\"is_target\") == \"target\")\n",
    ")\n",
    "\n",
    "ab_test_final_df.printSchema()"
   ]
  },
  {
   "cell_type": "code",
   "execution_count": 0,
   "metadata": {
    "application/vnd.databricks.v1+cell": {
     "cellMetadata": {
      "byteLimit": 2048000,
      "rowLimit": 10000
     },
     "inputWidgets": {},
     "nuid": "8b9a5a7e-f01c-435c-9e2a-e8e91b75911d",
     "showTitle": true,
     "tableResultSettingsMap": {},
     "title": "Criando tabela ab_test_ref na camada Silver"
    }
   },
   "outputs": [],
   "source": [
    "silver_ab_test_ref_table_name = f\"{SILVER_LAYER_PATH}.ab_test_ref\"\n",
    "\n",
    "spark.sql(f\"DROP TABLE IF EXISTS {silver_ab_test_ref_table_name}\")\n",
    "\n",
    "(ab_test_final_df.write\n",
    " .format(\"delta\")\n",
    " .mode(\"overwrite\")\n",
    " .saveAsTable(silver_ab_test_ref_table_name))\n",
    "\n",
    "# adicionando descrição das colunas\n",
    "add_column_comments(silver_ab_test_ref_table_name, AB_TEST_REF_SILVER_COLUMN_COMMENTS)\n",
    "\n",
    "print(\"Tabela 'ab_test_ref' da camada Silver criada com sucesso!\")"
   ]
  },
  {
   "cell_type": "markdown",
   "metadata": {
    "application/vnd.databricks.v1+cell": {
     "cellMetadata": {},
     "inputWidgets": {},
     "nuid": "1b3e0f7d-0b28-43d1-962b-dc0d1ab30964",
     "showTitle": false,
     "tableResultSettingsMap": {},
     "title": ""
    }
   },
   "source": [
    "### Join"
   ]
  },
  {
   "cell_type": "markdown",
   "metadata": {
    "application/vnd.databricks.v1+cell": {
     "cellMetadata": {},
     "inputWidgets": {},
     "nuid": "9003b64e-33b5-4744-a8a7-cc5daadf15e1",
     "showTitle": false,
     "tableResultSettingsMap": {},
     "title": ""
    }
   },
   "source": [
    "Aqui poderíamos usar os DataFrames já criados, porém para não ser preciso rodar todas as transformações novamente, vamos recuperar as tabelas aqui permitindo rodar o notebook a partir dessa célula para chegar na tabela de análise completa."
   ]
  },
  {
   "cell_type": "code",
   "execution_count": 0,
   "metadata": {
    "application/vnd.databricks.v1+cell": {
     "cellMetadata": {
      "byteLimit": 2048000,
      "rowLimit": 10000
     },
     "inputWidgets": {},
     "nuid": "d6fed0a4-283f-4bf3-9f6d-ea64bea79dfc",
     "showTitle": true,
     "tableResultSettingsMap": {},
     "title": "Carregando tabelas da camada Silver"
    }
   },
   "outputs": [],
   "source": [
    "orders_df = spark.table(f\"{SILVER_LAYER_PATH}.order\")\n",
    "consumers_df = spark.table(f\"{SILVER_LAYER_PATH}.consumer\")\n",
    "restaurants_df = spark.table(f\"{SILVER_LAYER_PATH}.restaurant\")\n",
    "ab_test_df = spark.table(f\"{SILVER_LAYER_PATH}.ab_test_ref\") "
   ]
  },
  {
   "cell_type": "code",
   "execution_count": 0,
   "metadata": {
    "application/vnd.databricks.v1+cell": {
     "cellMetadata": {
      "byteLimit": 2048000,
      "rowLimit": 10000
     },
     "inputWidgets": {},
     "nuid": "e5fa933c-8991-4478-964d-03791bb98a3d",
     "showTitle": true,
     "tableResultSettingsMap": {},
     "title": "Mantendo pedidos apenas de participantes do teste A/B"
    }
   },
   "outputs": [],
   "source": [
    "base_df = orders_df.join(\n",
    "    ab_test_df,\n",
    "    \"customer_id\",\n",
    "    \"inner\"\n",
    ")\n",
    "\n",
    "print(f\"Total de registros após INNER JOIN com ab_test_ref: {base_df.count()}\")"
   ]
  },
  {
   "cell_type": "markdown",
   "metadata": {
    "application/vnd.databricks.v1+cell": {
     "cellMetadata": {},
     "inputWidgets": {},
     "nuid": "09606354-0907-4d85-9f1b-f717a871947e",
     "showTitle": false,
     "tableResultSettingsMap": {},
     "title": ""
    }
   },
   "source": [
    "A manutenção de todos os registros indica que da base gerada de order, todos os pedidos foram realizados por pessoas participantes do teste. "
   ]
  },
  {
   "cell_type": "code",
   "execution_count": 0,
   "metadata": {
    "application/vnd.databricks.v1+cell": {
     "cellMetadata": {
      "byteLimit": 2048000,
      "rowLimit": 10000
     },
     "inputWidgets": {},
     "nuid": "f36fb7bb-2ebb-45e1-8999-df0289821806",
     "showTitle": true,
     "tableResultSettingsMap": {},
     "title": "Adicionando dados dos consumidores"
    }
   },
   "outputs": [],
   "source": [
    "base_df = base_df.join(\n",
    "  consumers_df,  \n",
    "  \"customer_id\",\n",
    "  \"left\"\n",
    ")"
   ]
  },
  {
   "cell_type": "code",
   "execution_count": 0,
   "metadata": {
    "application/vnd.databricks.v1+cell": {
     "cellMetadata": {
      "byteLimit": 2048000,
      "rowLimit": 10000
     },
     "inputWidgets": {},
     "nuid": "84f1a473-fdde-40ff-b967-e5cd33eccb67",
     "showTitle": true,
     "tableResultSettingsMap": {},
     "title": "Adicionando dados de restaurants"
    }
   },
   "outputs": [],
   "source": [
    "abt_final_df = base_df.join(\n",
    "  restaurants_df,\n",
    "  \"merchant_id\",\n",
    "  \"left\"\n",
    ")\n",
    "\n",
    "base_df.printSchema()"
   ]
  },
  {
   "cell_type": "code",
   "execution_count": 0,
   "metadata": {
    "application/vnd.databricks.v1+cell": {
     "cellMetadata": {
      "byteLimit": 2048000,
      "rowLimit": 10000
     },
     "inputWidgets": {},
     "nuid": "a90397d7-d83e-4c10-83af-ea16d7c7b4db",
     "showTitle": true,
     "tableResultSettingsMap": {},
     "title": "Criando tabela final para análise na camada silver"
    }
   },
   "outputs": [],
   "source": [
    "silver_abt_final_table_name = f\"{SILVER_LAYER_PATH}.abt_final\"\n",
    "\n",
    "spark.sql(f\"DROP TABLE IF EXISTS {silver_abt_final_table_name}\")\n",
    "\n",
    "(abt_final_df.write\n",
    " .partitionBy(\"partition_date\")\n",
    " .format(\"delta\")\n",
    " .mode(\"overwrite\")\n",
    " .saveAsTable(silver_abt_final_table_name))\n",
    "\n",
    "# adicionando descrição das colunas\n",
    "add_column_comments(silver_abt_final_table_name, ABT_SILVER_COLUMN_COMMENTS)\n",
    "\n",
    "print(\"Tabela 'abt_final' da camada Silver criada com sucesso!\")"
   ]
  }
 ],
 "metadata": {
  "application/vnd.databricks.v1+notebook": {
   "computePreferences": null,
   "dashboards": [],
   "environmentMetadata": {
    "base_environment": "",
    "environment_version": "2"
   },
   "inputWidgetPreferences": null,
   "language": "python",
   "notebookMetadata": {
    "mostRecentlyExecutedCommandWithImplicitDF": {
     "commandId": 7649490639355333,
     "dataframes": [
      "_sqldf"
     ]
    },
    "pythonIndentUnit": 4
   },
   "notebookName": "02_data_cleasing",
   "widgets": {}
  },
  "language_info": {
   "name": "python"
  }
 },
 "nbformat": 4,
 "nbformat_minor": 0
}
