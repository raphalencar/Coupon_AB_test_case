{
 "cells": [
  {
   "cell_type": "code",
   "execution_count": 0,
   "metadata": {
    "application/vnd.databricks.v1+cell": {
     "cellMetadata": {
      "byteLimit": 2048000,
      "implicitDf": true,
      "rowLimit": 10000
     },
     "inputWidgets": {},
     "nuid": "4d9e5831-1066-4ca7-ba8b-a53d11314298",
     "showTitle": true,
     "tableResultSettingsMap": {},
     "title": "Criando camadas dos dados"
    }
   },
   "outputs": [],
   "source": [
    "%sql\n",
    "CREATE CATALOG IF NOT EXISTS ifood_cat;\n",
    "USE CATALOG ifood_cat;\n",
    "\n",
    "-- criando as camadas de dados\n",
    "CREATE SCHEMA IF NOT EXISTS bronze;\n",
    "CREATE SCHEMA IF NOT EXISTS silver;\n",
    "CREATE SCHEMA IF NOT EXISTS gold;\n",
    "\n",
    "-- cria um volume chamado 'raw_files' para armazenar arquivos de origem\n",
    "CREATE VOLUME IF NOT EXISTS ifood_cat.bronze.raw_files;"
   ]
  },
  {
   "cell_type": "code",
   "execution_count": 0,
   "metadata": {
    "application/vnd.databricks.v1+cell": {
     "cellMetadata": {
      "byteLimit": 2048000,
      "rowLimit": 10000
     },
     "inputWidgets": {},
     "nuid": "a1f35ae2-9a02-4013-af1d-6c1043b6c1eb",
     "showTitle": true,
     "tableResultSettingsMap": {},
     "title": "Imports"
    }
   },
   "outputs": [],
   "source": [
    "import pyspark.sql.functions as f\n",
    "import pyspark.sql.types as t\n",
    "\n",
    "from utils import cast_to_timestamp\n",
    "from schemas import (\n",
    "    ORDER_SCHEMA,\n",
    "    RESTAURANT_SCHEMA,\n",
    "    CONSUMER_SCHEMA,\n",
    "    AB_TEST_REF_SCHEMA\n",
    ")\n",
    "from constants import (\n",
    "    BRONZE_VOLUME_PATH,\n",
    "    BRONZE_LAYER_PATH,\n",
    "    URLS, \n",
    "    ORDER_COLUMN_COMMENTS,\n",
    "    CONSUMER_COLUMN_COMMENTS,\n",
    "    RESTAURANT_COLUMN_COMMENTS,\n",
    "    AB_TEST_REF_COLUMN_COMMENTS,\n",
    ")\n",
    "\n",
    "import urllib.request\n",
    "import tarfile\n",
    "import os"
   ]
  },
  {
   "cell_type": "code",
   "execution_count": 0,
   "metadata": {
    "application/vnd.databricks.v1+cell": {
     "cellMetadata": {
      "byteLimit": 2048000,
      "rowLimit": 10000
     },
     "inputWidgets": {},
     "nuid": "06abe60b-ff4f-4b69-ae8e-06853acc02d1",
     "showTitle": true,
     "tableResultSettingsMap": {},
     "title": "Função para adição de descrição as colunas das tabelas"
    }
   },
   "outputs": [],
   "source": [
    "def add_column_comments(table_name, comments_dict):\n",
    "    for col_name, comment_text in comments_dict.items():\n",
    "        safe_comment = comment_text.replace('\"', '\\\\\"')\n",
    "        \n",
    "        sql_command = f\"\"\"\n",
    "        ALTER TABLE {table_name} ALTER COLUMN {col_name} COMMENT \"{safe_comment}\"\n",
    "        \"\"\"\n",
    "        spark.sql(sql_command)"
   ]
  },
  {
   "cell_type": "code",
   "execution_count": 0,
   "metadata": {
    "application/vnd.databricks.v1+cell": {
     "cellMetadata": {
      "byteLimit": 2048000,
      "rowLimit": 10000
     },
     "inputWidgets": {},
     "nuid": "447df1a7-3d20-4a43-976d-fc195974e90e",
     "showTitle": true,
     "tableResultSettingsMap": {},
     "title": "Download dos arquivos com os dados brutos"
    }
   },
   "outputs": [],
   "source": [
    "print(\"\\nIniciando download e extração para o Volume...\")\n",
    "for filename, url in URLS.items():\n",
    "    destination_path = os.path.join(BRONZE_VOLUME_PATH, filename)\n",
    "    os.system(f\"wget -O {destination_path} -nc {url}\")\n",
    "\n",
    "tar_path = os.path.join(BRONZE_VOLUME_PATH, \"ab_test_ref.tar.gz\")\n",
    "os.system(f\"tar -xzf {tar_path} -C {BRONZE_VOLUME_PATH}/\")\n",
    "print(\"Download e extração concluídos.\")\n",
    "\n",
    "# Verificar os arquivos no Volume\n",
    "print(\"\\nListando arquivos no Volume para confirmação:\")\n",
    "display(dbutils.fs.ls(BRONZE_VOLUME_PATH))"
   ]
  },
  {
   "cell_type": "markdown",
   "metadata": {
    "application/vnd.databricks.v1+cell": {
     "cellMetadata": {},
     "inputWidgets": {},
     "nuid": "047aef2b-0090-4606-a88b-0bca886a2c3c",
     "showTitle": false,
     "tableResultSettingsMap": {},
     "title": ""
    }
   },
   "source": [
    "### orders"
   ]
  },
  {
   "cell_type": "code",
   "execution_count": 0,
   "metadata": {
    "application/vnd.databricks.v1+cell": {
     "cellMetadata": {
      "byteLimit": 2048000,
      "rowLimit": 10000
     },
     "inputWidgets": {},
     "nuid": "2688a1c7-83bf-4108-b479-2453bd33f6ce",
     "showTitle": true,
     "tableResultSettingsMap": {},
     "title": "Carregamento e persistencia em table Delta - order"
    }
   },
   "outputs": [],
   "source": [
    "src_order_file_path = f\"{BRONZE_VOLUME_PATH}/order.json.gz\"\n",
    "bronze_order_table_name = f\"{BRONZE_LAYER_PATH}.order\"\n",
    "\n",
    "spark.sql(f\"DROP TABLE IF EXISTS {bronze_order_table_name}\")\n",
    "\n",
    "orders_df = (spark.read  \n",
    "            .format(\"json\")\n",
    "            .schema(ORDER_SCHEMA)\n",
    "            .load(src_order_file_path))\n",
    "\n",
    "orders_df = orders_df.withColumn(\"partition_date\", f.to_date(f.col(\"order_created_at\")))\n",
    "\n",
    "display(orders_df.select(\"order_id\", \"order_created_at\", \"partition_date\").limit(5))\n",
    "\n",
    "(orders_df.write\n",
    " .partitionBy(\"partition_date\")\n",
    " .format(\"delta\")\n",
    " .mode(\"overwrite\")\n",
    " .saveAsTable(bronze_order_table_name))\n",
    "\n",
    "# adicionando descrição das colunas\n",
    "add_column_comments(bronze_order_table_name, ORDER_COLUMN_COMMENTS)\n",
    "\n",
    "print(\"Tabela 'order' da camada Bronze criada com sucesso!\")"
   ]
  },
  {
   "cell_type": "code",
   "execution_count": 0,
   "metadata": {
    "application/vnd.databricks.v1+cell": {
     "cellMetadata": {
      "byteLimit": 2048000,
      "rowLimit": 10000
     },
     "inputWidgets": {},
     "nuid": "53ebe433-bbe1-44fc-a528-c113a6baf185",
     "showTitle": true,
     "tableResultSettingsMap": {},
     "title": "Avaliação schema order"
    }
   },
   "outputs": [],
   "source": [
    "orders_df = spark.table(f\"{BRONZE_LAYER_PATH}.order\")\n",
    "\n",
    "print(\"Schema da tabela 'orders':\")\n",
    "orders_df.printSchema()\n",
    "\n",
    "print(\"\\nAmostra dos dados da tabela 'orders':\")\n",
    "display(orders_df.limit(5))"
   ]
  },
  {
   "cell_type": "markdown",
   "metadata": {
    "application/vnd.databricks.v1+cell": {
     "cellMetadata": {},
     "inputWidgets": {},
     "nuid": "738c372f-81a8-45cb-b916-3d4857bfe1aa",
     "showTitle": false,
     "tableResultSettingsMap": {},
     "title": ""
    }
   },
   "source": [
    "### consumers"
   ]
  },
  {
   "cell_type": "code",
   "execution_count": 0,
   "metadata": {
    "application/vnd.databricks.v1+cell": {
     "cellMetadata": {
      "byteLimit": 2048000,
      "rowLimit": 10000
     },
     "inputWidgets": {},
     "nuid": "1936dc6e-ab60-46bb-b449-762fd03974db",
     "showTitle": true,
     "tableResultSettingsMap": {},
     "title": "Carregamento e persistencia em table Delta - consumer"
    }
   },
   "outputs": [],
   "source": [
    "src_consumer_file_path = f\"{BRONZE_VOLUME_PATH}/consumer.csv.gz\"\n",
    "bronze_consumer_table_name = f\"{BRONZE_LAYER_PATH}.consumer\"\n",
    "\n",
    "spark.sql(f\"DROP TABLE IF EXISTS {bronze_consumer_table_name}\")\n",
    "\n",
    "consumers_df = (spark.read \n",
    "                .format(\"csv\")\n",
    "                .option(\"header\", \"true\")\n",
    "                .schema(CONSUMER_SCHEMA)\n",
    "                .load(src_consumer_file_path))\n",
    "\n",
    "(consumers_df.write\n",
    "             .format(\"delta\")\n",
    "             .mode(\"overwrite\")\n",
    "             .saveAsTable(bronze_consumer_table_name))\n",
    "\n",
    "# adicionando descrição das colunas\n",
    "add_column_comments(bronze_consumer_table_name, CONSUMER_COLUMN_COMMENTS)\n",
    "\n",
    "print(\"Tabela 'consumer' da camada Bronze criada com sucesso!\")"
   ]
  },
  {
   "cell_type": "markdown",
   "metadata": {
    "application/vnd.databricks.v1+cell": {
     "cellMetadata": {},
     "inputWidgets": {},
     "nuid": "763cb5d6-ca50-4b8b-a2c5-92047d9857c1",
     "showTitle": false,
     "tableResultSettingsMap": {},
     "title": ""
    }
   },
   "source": [
    "### restaurants"
   ]
  },
  {
   "cell_type": "code",
   "execution_count": 0,
   "metadata": {
    "application/vnd.databricks.v1+cell": {
     "cellMetadata": {
      "byteLimit": 2048000,
      "rowLimit": 10000
     },
     "inputWidgets": {},
     "nuid": "5f1b34d8-4439-44ee-a6dc-a5556af27033",
     "showTitle": true,
     "tableResultSettingsMap": {},
     "title": "Carregamento e persistencia em table Delta - restaurant"
    }
   },
   "outputs": [],
   "source": [
    "src_restaurant_file_path = f\"{BRONZE_VOLUME_PATH}/restaurant.csv.gz\"\n",
    "bronze_restaurant_table_name = f\"{BRONZE_LAYER_PATH}.restaurant\"\n",
    "\n",
    "spark.sql(f\"DROP TABLE IF EXISTS {bronze_restaurant_table_name}\")\n",
    "\n",
    "restaurants_df = (spark.read \n",
    "                .format(\"csv\")\n",
    "                .option(\"header\", \"true\")\n",
    "                .schema(RESTAURANT_SCHEMA)\n",
    "                .load(src_restaurant_file_path))\n",
    "\n",
    "(restaurants_df.write\n",
    "             .format(\"delta\")\n",
    "             .mode(\"overwrite\")\n",
    "             .saveAsTable(bronze_restaurant_table_name))\n",
    "\n",
    "# adicionando descrição das colunas\n",
    "add_column_comments(bronze_restaurant_table_name, RESTAURANT_COLUMN_COMMENTS)\n",
    "\n",
    "print(\"Tabela 'restaurant' da camada Bronze criada com sucesso!\")"
   ]
  },
  {
   "cell_type": "markdown",
   "metadata": {
    "application/vnd.databricks.v1+cell": {
     "cellMetadata": {},
     "inputWidgets": {},
     "nuid": "20829867-9a7d-42d1-bd69-8aa90cae3a64",
     "showTitle": false,
     "tableResultSettingsMap": {},
     "title": ""
    }
   },
   "source": [
    "### ab_test_ref"
   ]
  },
  {
   "cell_type": "code",
   "execution_count": 0,
   "metadata": {
    "application/vnd.databricks.v1+cell": {
     "cellMetadata": {
      "byteLimit": 2048000,
      "rowLimit": 10000
     },
     "inputWidgets": {},
     "nuid": "4cffa886-ba9d-4109-b16f-35baaf9f4c65",
     "showTitle": true,
     "tableResultSettingsMap": {},
     "title": "Carregamento e persistencia em table Delta - ab_test_ref"
    }
   },
   "outputs": [],
   "source": [
    "src_ab_test_ref_file_path = f\"{BRONZE_VOLUME_PATH}/ab_test_ref.csv\"\n",
    "bronze_ab_test_ref_table_name = f\"{BRONZE_LAYER_PATH}.ab_test_ref\"\n",
    "\n",
    "spark.sql(f\"DROP TABLE IF EXISTS {bronze_ab_test_ref_table_name}\")\n",
    "\n",
    "ab_test_refs_df = (spark.read \n",
    "                .format(\"csv\")\n",
    "                .option(\"header\", \"true\")\n",
    "                .schema(AB_TEST_REF_SCHEMA)\n",
    "                .load(src_ab_test_ref_file_path))\n",
    "\n",
    "(ab_test_refs_df.write\n",
    "             .format(\"delta\")\n",
    "             .mode(\"overwrite\")\n",
    "             .saveAsTable(bronze_ab_test_ref_table_name))\n",
    "\n",
    "# adicionando descrição das colunas\n",
    "add_column_comments(bronze_ab_test_ref_table_name, AB_TEST_REF_COLUMN_COMMENTS)\n",
    "\n",
    "print(\"Tabela 'ab_test_ref' da camada Bronze criada com sucesso!\")"
   ]
  }
 ],
 "metadata": {
  "application/vnd.databricks.v1+notebook": {
   "computePreferences": {
    "hardware": {
     "accelerator": null,
     "gpuPoolId": null,
     "memory": null
    }
   },
   "dashboards": [],
   "environmentMetadata": {
    "base_environment": "",
    "environment_version": "2"
   },
   "inputWidgetPreferences": null,
   "language": "python",
   "notebookMetadata": {
    "mostRecentlyExecutedCommandWithImplicitDF": {
     "commandId": 7033223869822609,
     "dataframes": [
      "_sqldf"
     ]
    },
    "pythonIndentUnit": 4
   },
   "notebookName": "Data Acquisition",
   "widgets": {}
  },
  "language_info": {
   "name": "python"
  }
 },
 "nbformat": 4,
 "nbformat_minor": 0
}
